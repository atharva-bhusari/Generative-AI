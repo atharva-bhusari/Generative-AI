{
 "cells": [
  {
   "cell_type": "code",
   "execution_count": 1,
   "id": "5e90ef39-5025-415b-831c-12a49aac8398",
   "metadata": {},
   "outputs": [
    {
     "data": {
      "text/plain": [
       "True"
      ]
     },
     "execution_count": 1,
     "metadata": {},
     "output_type": "execute_result"
    }
   ],
   "source": [
    "import openai\n",
    "import os\n",
    "from dotenv import load_dotenv\n",
    "import langchain\n",
    "\n",
    "load_dotenv()"
   ]
  },
  {
   "cell_type": "markdown",
   "id": "97e9fdd7-3fad-4fc5-b5c8-4c800dc2cc5e",
   "metadata": {},
   "source": [
    "Generating API Key"
   ]
  },
  {
   "cell_type": "code",
   "execution_count": 2,
   "id": "0ba96a9a-68d5-4320-90cb-686bf9524223",
   "metadata": {},
   "outputs": [],
   "source": [
    "API_KEY = os.environ.get(\"OPENAI_API_KEY\")\n",
    "openai.api_key = API_KEY"
   ]
  },
  {
   "cell_type": "code",
   "execution_count": 3,
   "id": "f5c245ef-f755-41b1-b723-6f09ea097e81",
   "metadata": {},
   "outputs": [
    {
     "data": {
      "text/plain": [
       "SyncPage[Model](data=[Model(id='gpt-3.5-turbo-1106', created=1698959748, object='model', owned_by='system'), Model(id='dall-e-3', created=1698785189, object='model', owned_by='system'), Model(id='gpt-3.5-turbo-16k-0613', created=1685474247, object='model', owned_by='openai'), Model(id='dall-e-2', created=1698798177, object='model', owned_by='system'), Model(id='text-embedding-3-large', created=1705953180, object='model', owned_by='system'), Model(id='whisper-1', created=1677532384, object='model', owned_by='openai-internal'), Model(id='tts-1-hd-1106', created=1699053533, object='model', owned_by='system'), Model(id='tts-1-hd', created=1699046015, object='model', owned_by='system'), Model(id='gpt-4-1106-preview', created=1698957206, object='model', owned_by='system'), Model(id='gpt-3.5-turbo', created=1677610602, object='model', owned_by='openai'), Model(id='gpt-3.5-turbo-0125', created=1706048358, object='model', owned_by='system'), Model(id='gpt-4-0613', created=1686588896, object='model', owned_by='openai'), Model(id='gpt-4-turbo-preview', created=1706037777, object='model', owned_by='system'), Model(id='gpt-3.5-turbo-0301', created=1677649963, object='model', owned_by='openai'), Model(id='gpt-3.5-turbo-0613', created=1686587434, object='model', owned_by='openai'), Model(id='gpt-3.5-turbo-instruct-0914', created=1694122472, object='model', owned_by='system'), Model(id='gpt-4', created=1687882411, object='model', owned_by='openai'), Model(id='tts-1', created=1681940951, object='model', owned_by='openai-internal'), Model(id='davinci-002', created=1692634301, object='model', owned_by='system'), Model(id='gpt-3.5-turbo-instruct', created=1692901427, object='model', owned_by='system'), Model(id='babbage-002', created=1692634615, object='model', owned_by='system'), Model(id='gpt-4-vision-preview', created=1698894917, object='model', owned_by='system'), Model(id='gpt-4-0125-preview', created=1706037612, object='model', owned_by='system'), Model(id='tts-1-1106', created=1699053241, object='model', owned_by='system'), Model(id='gpt-3.5-turbo-16k', created=1683758102, object='model', owned_by='openai-internal'), Model(id='text-embedding-ada-002', created=1671217299, object='model', owned_by='openai-internal'), Model(id='text-embedding-3-small', created=1705948997, object='model', owned_by='system')], object='list')"
      ]
     },
     "execution_count": 3,
     "metadata": {},
     "output_type": "execute_result"
    }
   ],
   "source": [
    "openai.models.list()"
   ]
  },
  {
   "cell_type": "code",
   "execution_count": 4,
   "id": "e0a85985-d433-4037-a301-f882b5654868",
   "metadata": {},
   "outputs": [],
   "source": [
    "models_list = list(openai.models.list())"
   ]
  },
  {
   "cell_type": "code",
   "execution_count": 5,
   "id": "e3fce230-7340-4ecd-afc9-9336812c672b",
   "metadata": {},
   "outputs": [
    {
     "data": {
      "text/html": [
       "<div>\n",
       "<style scoped>\n",
       "    .dataframe tbody tr th:only-of-type {\n",
       "        vertical-align: middle;\n",
       "    }\n",
       "\n",
       "    .dataframe tbody tr th {\n",
       "        vertical-align: top;\n",
       "    }\n",
       "\n",
       "    .dataframe thead th {\n",
       "        text-align: right;\n",
       "    }\n",
       "</style>\n",
       "<table border=\"1\" class=\"dataframe\">\n",
       "  <thead>\n",
       "    <tr style=\"text-align: right;\">\n",
       "      <th></th>\n",
       "      <th>id</th>\n",
       "      <th>created</th>\n",
       "      <th>object</th>\n",
       "      <th>owned_by</th>\n",
       "    </tr>\n",
       "  </thead>\n",
       "  <tbody>\n",
       "    <tr>\n",
       "      <th>0</th>\n",
       "      <td>(id, gpt-3.5-turbo-1106)</td>\n",
       "      <td>(created, 1698959748)</td>\n",
       "      <td>(object, model)</td>\n",
       "      <td>(owned_by, system)</td>\n",
       "    </tr>\n",
       "    <tr>\n",
       "      <th>1</th>\n",
       "      <td>(id, dall-e-3)</td>\n",
       "      <td>(created, 1698785189)</td>\n",
       "      <td>(object, model)</td>\n",
       "      <td>(owned_by, system)</td>\n",
       "    </tr>\n",
       "    <tr>\n",
       "      <th>2</th>\n",
       "      <td>(id, gpt-3.5-turbo-16k-0613)</td>\n",
       "      <td>(created, 1685474247)</td>\n",
       "      <td>(object, model)</td>\n",
       "      <td>(owned_by, openai)</td>\n",
       "    </tr>\n",
       "    <tr>\n",
       "      <th>3</th>\n",
       "      <td>(id, dall-e-2)</td>\n",
       "      <td>(created, 1698798177)</td>\n",
       "      <td>(object, model)</td>\n",
       "      <td>(owned_by, system)</td>\n",
       "    </tr>\n",
       "    <tr>\n",
       "      <th>4</th>\n",
       "      <td>(id, text-embedding-3-large)</td>\n",
       "      <td>(created, 1705953180)</td>\n",
       "      <td>(object, model)</td>\n",
       "      <td>(owned_by, system)</td>\n",
       "    </tr>\n",
       "    <tr>\n",
       "      <th>5</th>\n",
       "      <td>(id, whisper-1)</td>\n",
       "      <td>(created, 1677532384)</td>\n",
       "      <td>(object, model)</td>\n",
       "      <td>(owned_by, openai-internal)</td>\n",
       "    </tr>\n",
       "    <tr>\n",
       "      <th>6</th>\n",
       "      <td>(id, tts-1-hd-1106)</td>\n",
       "      <td>(created, 1699053533)</td>\n",
       "      <td>(object, model)</td>\n",
       "      <td>(owned_by, system)</td>\n",
       "    </tr>\n",
       "    <tr>\n",
       "      <th>7</th>\n",
       "      <td>(id, tts-1-hd)</td>\n",
       "      <td>(created, 1699046015)</td>\n",
       "      <td>(object, model)</td>\n",
       "      <td>(owned_by, system)</td>\n",
       "    </tr>\n",
       "    <tr>\n",
       "      <th>8</th>\n",
       "      <td>(id, gpt-4-1106-preview)</td>\n",
       "      <td>(created, 1698957206)</td>\n",
       "      <td>(object, model)</td>\n",
       "      <td>(owned_by, system)</td>\n",
       "    </tr>\n",
       "    <tr>\n",
       "      <th>9</th>\n",
       "      <td>(id, gpt-3.5-turbo)</td>\n",
       "      <td>(created, 1677610602)</td>\n",
       "      <td>(object, model)</td>\n",
       "      <td>(owned_by, openai)</td>\n",
       "    </tr>\n",
       "    <tr>\n",
       "      <th>10</th>\n",
       "      <td>(id, gpt-3.5-turbo-0125)</td>\n",
       "      <td>(created, 1706048358)</td>\n",
       "      <td>(object, model)</td>\n",
       "      <td>(owned_by, system)</td>\n",
       "    </tr>\n",
       "    <tr>\n",
       "      <th>11</th>\n",
       "      <td>(id, gpt-4-0613)</td>\n",
       "      <td>(created, 1686588896)</td>\n",
       "      <td>(object, model)</td>\n",
       "      <td>(owned_by, openai)</td>\n",
       "    </tr>\n",
       "    <tr>\n",
       "      <th>12</th>\n",
       "      <td>(id, gpt-4-turbo-preview)</td>\n",
       "      <td>(created, 1706037777)</td>\n",
       "      <td>(object, model)</td>\n",
       "      <td>(owned_by, system)</td>\n",
       "    </tr>\n",
       "    <tr>\n",
       "      <th>13</th>\n",
       "      <td>(id, gpt-3.5-turbo-0301)</td>\n",
       "      <td>(created, 1677649963)</td>\n",
       "      <td>(object, model)</td>\n",
       "      <td>(owned_by, openai)</td>\n",
       "    </tr>\n",
       "    <tr>\n",
       "      <th>14</th>\n",
       "      <td>(id, gpt-3.5-turbo-0613)</td>\n",
       "      <td>(created, 1686587434)</td>\n",
       "      <td>(object, model)</td>\n",
       "      <td>(owned_by, openai)</td>\n",
       "    </tr>\n",
       "    <tr>\n",
       "      <th>15</th>\n",
       "      <td>(id, gpt-3.5-turbo-instruct-0914)</td>\n",
       "      <td>(created, 1694122472)</td>\n",
       "      <td>(object, model)</td>\n",
       "      <td>(owned_by, system)</td>\n",
       "    </tr>\n",
       "    <tr>\n",
       "      <th>16</th>\n",
       "      <td>(id, gpt-4)</td>\n",
       "      <td>(created, 1687882411)</td>\n",
       "      <td>(object, model)</td>\n",
       "      <td>(owned_by, openai)</td>\n",
       "    </tr>\n",
       "    <tr>\n",
       "      <th>17</th>\n",
       "      <td>(id, tts-1)</td>\n",
       "      <td>(created, 1681940951)</td>\n",
       "      <td>(object, model)</td>\n",
       "      <td>(owned_by, openai-internal)</td>\n",
       "    </tr>\n",
       "    <tr>\n",
       "      <th>18</th>\n",
       "      <td>(id, davinci-002)</td>\n",
       "      <td>(created, 1692634301)</td>\n",
       "      <td>(object, model)</td>\n",
       "      <td>(owned_by, system)</td>\n",
       "    </tr>\n",
       "    <tr>\n",
       "      <th>19</th>\n",
       "      <td>(id, gpt-3.5-turbo-instruct)</td>\n",
       "      <td>(created, 1692901427)</td>\n",
       "      <td>(object, model)</td>\n",
       "      <td>(owned_by, system)</td>\n",
       "    </tr>\n",
       "    <tr>\n",
       "      <th>20</th>\n",
       "      <td>(id, babbage-002)</td>\n",
       "      <td>(created, 1692634615)</td>\n",
       "      <td>(object, model)</td>\n",
       "      <td>(owned_by, system)</td>\n",
       "    </tr>\n",
       "    <tr>\n",
       "      <th>21</th>\n",
       "      <td>(id, gpt-4-vision-preview)</td>\n",
       "      <td>(created, 1698894917)</td>\n",
       "      <td>(object, model)</td>\n",
       "      <td>(owned_by, system)</td>\n",
       "    </tr>\n",
       "    <tr>\n",
       "      <th>22</th>\n",
       "      <td>(id, gpt-4-0125-preview)</td>\n",
       "      <td>(created, 1706037612)</td>\n",
       "      <td>(object, model)</td>\n",
       "      <td>(owned_by, system)</td>\n",
       "    </tr>\n",
       "    <tr>\n",
       "      <th>23</th>\n",
       "      <td>(id, tts-1-1106)</td>\n",
       "      <td>(created, 1699053241)</td>\n",
       "      <td>(object, model)</td>\n",
       "      <td>(owned_by, system)</td>\n",
       "    </tr>\n",
       "    <tr>\n",
       "      <th>24</th>\n",
       "      <td>(id, gpt-3.5-turbo-16k)</td>\n",
       "      <td>(created, 1683758102)</td>\n",
       "      <td>(object, model)</td>\n",
       "      <td>(owned_by, openai-internal)</td>\n",
       "    </tr>\n",
       "    <tr>\n",
       "      <th>25</th>\n",
       "      <td>(id, text-embedding-ada-002)</td>\n",
       "      <td>(created, 1671217299)</td>\n",
       "      <td>(object, model)</td>\n",
       "      <td>(owned_by, openai-internal)</td>\n",
       "    </tr>\n",
       "    <tr>\n",
       "      <th>26</th>\n",
       "      <td>(id, text-embedding-3-small)</td>\n",
       "      <td>(created, 1705948997)</td>\n",
       "      <td>(object, model)</td>\n",
       "      <td>(owned_by, system)</td>\n",
       "    </tr>\n",
       "  </tbody>\n",
       "</table>\n",
       "</div>"
      ],
      "text/plain": [
       "                                   id                created           object  \\\n",
       "0            (id, gpt-3.5-turbo-1106)  (created, 1698959748)  (object, model)   \n",
       "1                      (id, dall-e-3)  (created, 1698785189)  (object, model)   \n",
       "2        (id, gpt-3.5-turbo-16k-0613)  (created, 1685474247)  (object, model)   \n",
       "3                      (id, dall-e-2)  (created, 1698798177)  (object, model)   \n",
       "4        (id, text-embedding-3-large)  (created, 1705953180)  (object, model)   \n",
       "5                     (id, whisper-1)  (created, 1677532384)  (object, model)   \n",
       "6                 (id, tts-1-hd-1106)  (created, 1699053533)  (object, model)   \n",
       "7                      (id, tts-1-hd)  (created, 1699046015)  (object, model)   \n",
       "8            (id, gpt-4-1106-preview)  (created, 1698957206)  (object, model)   \n",
       "9                 (id, gpt-3.5-turbo)  (created, 1677610602)  (object, model)   \n",
       "10           (id, gpt-3.5-turbo-0125)  (created, 1706048358)  (object, model)   \n",
       "11                   (id, gpt-4-0613)  (created, 1686588896)  (object, model)   \n",
       "12          (id, gpt-4-turbo-preview)  (created, 1706037777)  (object, model)   \n",
       "13           (id, gpt-3.5-turbo-0301)  (created, 1677649963)  (object, model)   \n",
       "14           (id, gpt-3.5-turbo-0613)  (created, 1686587434)  (object, model)   \n",
       "15  (id, gpt-3.5-turbo-instruct-0914)  (created, 1694122472)  (object, model)   \n",
       "16                        (id, gpt-4)  (created, 1687882411)  (object, model)   \n",
       "17                        (id, tts-1)  (created, 1681940951)  (object, model)   \n",
       "18                  (id, davinci-002)  (created, 1692634301)  (object, model)   \n",
       "19       (id, gpt-3.5-turbo-instruct)  (created, 1692901427)  (object, model)   \n",
       "20                  (id, babbage-002)  (created, 1692634615)  (object, model)   \n",
       "21         (id, gpt-4-vision-preview)  (created, 1698894917)  (object, model)   \n",
       "22           (id, gpt-4-0125-preview)  (created, 1706037612)  (object, model)   \n",
       "23                   (id, tts-1-1106)  (created, 1699053241)  (object, model)   \n",
       "24            (id, gpt-3.5-turbo-16k)  (created, 1683758102)  (object, model)   \n",
       "25       (id, text-embedding-ada-002)  (created, 1671217299)  (object, model)   \n",
       "26       (id, text-embedding-3-small)  (created, 1705948997)  (object, model)   \n",
       "\n",
       "                       owned_by  \n",
       "0            (owned_by, system)  \n",
       "1            (owned_by, system)  \n",
       "2            (owned_by, openai)  \n",
       "3            (owned_by, system)  \n",
       "4            (owned_by, system)  \n",
       "5   (owned_by, openai-internal)  \n",
       "6            (owned_by, system)  \n",
       "7            (owned_by, system)  \n",
       "8            (owned_by, system)  \n",
       "9            (owned_by, openai)  \n",
       "10           (owned_by, system)  \n",
       "11           (owned_by, openai)  \n",
       "12           (owned_by, system)  \n",
       "13           (owned_by, openai)  \n",
       "14           (owned_by, openai)  \n",
       "15           (owned_by, system)  \n",
       "16           (owned_by, openai)  \n",
       "17  (owned_by, openai-internal)  \n",
       "18           (owned_by, system)  \n",
       "19           (owned_by, system)  \n",
       "20           (owned_by, system)  \n",
       "21           (owned_by, system)  \n",
       "22           (owned_by, system)  \n",
       "23           (owned_by, system)  \n",
       "24  (owned_by, openai-internal)  \n",
       "25  (owned_by, openai-internal)  \n",
       "26           (owned_by, system)  "
      ]
     },
     "execution_count": 5,
     "metadata": {},
     "output_type": "execute_result"
    }
   ],
   "source": [
    "import pandas as pd\n",
    "\n",
    "pd.DataFrame(models_list, columns=['id', 'created','object','owned_by'])"
   ]
  },
  {
   "cell_type": "code",
   "execution_count": 6,
   "id": "5a3b1191-c27b-4664-aceb-2061d1317dc2",
   "metadata": {},
   "outputs": [],
   "source": [
    "from openai import OpenAI\n",
    "client = OpenAI(api_key=os.environ.get(\"OPENAI_API_KEY\"))"
   ]
  },
  {
   "cell_type": "code",
   "execution_count": 7,
   "id": "492fce10-e98b-45dc-a5b7-eaa66ed2613b",
   "metadata": {},
   "outputs": [],
   "source": [
    "response = client.chat.completions.create(\n",
    "  model=\"gpt-3.5-turbo\",\n",
    "  messages=[\n",
    "    {\n",
    "      \"role\": \"user\",\n",
    "      \"content\": \"How to make money\"\n",
    "    }\n",
    "  ],\n",
    "    max_tokens=150,\n",
    "    n=3\n",
    ")"
   ]
  },
  {
   "cell_type": "code",
   "execution_count": 8,
   "id": "5f26240d-f2af-4394-9610-6368b11f215b",
   "metadata": {},
   "outputs": [
    {
     "data": {
      "text/plain": [
       "'There are many different ways to make money, depending on your skills, interests, and resources. Here are some common ways to make money:\\n\\n1. Get a job: This is the most traditional way to make money. Look for job opportunities in your area or online, and apply to ones that align with your skills and experience.\\n\\n2. Start a side hustle: If you have a skill or hobby that you are passionate about, consider turning it into a side hustle. This could be anything from freelance writing, photography, graphic design, tutoring, or creating handmade crafts to sell online.\\n\\n3. Invest in the stock market: If you have some money to invest, consider putting it in the stock market to potentially earn a return on your investment.\\n\\n4'"
      ]
     },
     "execution_count": 8,
     "metadata": {},
     "output_type": "execute_result"
    }
   ],
   "source": [
    "response.choices[0].message.content"
   ]
  },
  {
   "cell_type": "code",
   "execution_count": 9,
   "id": "6a7c7fcd-8af9-49c2-a4b5-09e8d67b6c16",
   "metadata": {},
   "outputs": [],
   "source": [
    "response = client.chat.completions.create(\n",
    "  model=\"gpt-3.5-turbo\",\n",
    "  messages=[\n",
    "    {\n",
    "      \"role\": \"user\",\n",
    "      \"content\": \"Who is Sachin Tendulkar?\"\n",
    "    }\n",
    "  ],\n",
    "    max_tokens=150,\n",
    "    n=3\n",
    ")"
   ]
  },
  {
   "cell_type": "code",
   "execution_count": 10,
   "id": "c753c51f-93ca-40f7-95cc-b1d23e38346e",
   "metadata": {},
   "outputs": [
    {
     "data": {
      "text/plain": [
       "'Sachin Tendulkar is a former Indian cricketer widely regarded as one of the greatest batsmen in the history of cricket. He is known for his exceptional batting skills, records, and achievements during his cricket career. Tendulkar is often referred to as the \"Little Master\" or \"Master Blaster\" and has a massive fan following worldwide. He retired from international cricket in 2013 after a successful career spanning over two decades.'"
      ]
     },
     "execution_count": 10,
     "metadata": {},
     "output_type": "execute_result"
    }
   ],
   "source": [
    "response.choices[0].message.content"
   ]
  },
  {
   "cell_type": "code",
   "execution_count": 11,
   "id": "dfe6ab7b",
   "metadata": {},
   "outputs": [],
   "source": [
    "student_description = \"sunny savita is a student of computer science at IIT delhi. He is an indian and has a 8.5 GPA. Sunny is known for his programming skills and is an active member of the college's AI Club. He hopes to pursue a career in artificial intelligence after graduating.\""
   ]
  },
  {
   "cell_type": "code",
   "execution_count": 12,
   "id": "d9bba447",
   "metadata": {},
   "outputs": [
    {
     "data": {
      "text/plain": [
       "\"sunny savita is a student of computer science at IIT delhi. He is an indian and has a 8.5 GPA. Sunny is known for his programming skills and is an active member of the college's AI Club. He hopes to pursue a career in artificial intelligence after graduating.\""
      ]
     },
     "execution_count": 12,
     "metadata": {},
     "output_type": "execute_result"
    }
   ],
   "source": [
    "student_description"
   ]
  },
  {
   "cell_type": "code",
   "execution_count": 13,
   "id": "88d53ace",
   "metadata": {},
   "outputs": [],
   "source": [
    "prompt = f'''\n",
    "Please extract the following information from the given text and return it as a JSON object:\n",
    "\n",
    "name\n",
    "college\n",
    "grades\n",
    "club\n",
    "\n",
    "This is the body of text to extract the information from:\n",
    "{student_description}\n",
    "'''"
   ]
  },
  {
   "cell_type": "code",
   "execution_count": 14,
   "id": "ff73db12",
   "metadata": {},
   "outputs": [],
   "source": [
    "response = client.chat.completions.create(\n",
    "    model=\"gpt-3.5-turbo\",\n",
    "    messages=[\n",
    "    {\n",
    "      \"role\": \"user\",\n",
    "      \"content\": prompt\n",
    "    }\n",
    "      ]\n",
    ")"
   ]
  },
  {
   "cell_type": "code",
   "execution_count": 15,
   "id": "3a2eb2b1",
   "metadata": {},
   "outputs": [
    {
     "data": {
      "text/plain": [
       "ChatCompletion(id='chatcmpl-94Km1Brzox1ktoIB3zh0y3PN2uCD8', choices=[Choice(finish_reason='stop', index=0, logprobs=None, message=ChatCompletionMessage(content='{\\n  \"name\": \"Sunny Savita\",\\n  \"college\": \"IIT Delhi\",\\n  \"grades\": 8.5,\\n  \"club\": \"AI Club\"\\n}', role='assistant', function_call=None, tool_calls=None))], created=1710820193, model='gpt-3.5-turbo-0125', object='chat.completion', system_fingerprint='fp_4f2ebda25a', usage=CompletionUsage(completion_tokens=38, prompt_tokens=105, total_tokens=143))"
      ]
     },
     "execution_count": 15,
     "metadata": {},
     "output_type": "execute_result"
    }
   ],
   "source": [
    "response"
   ]
  },
  {
   "cell_type": "code",
   "execution_count": 16,
   "id": "6fcda35d",
   "metadata": {},
   "outputs": [],
   "source": [
    "output = response.choices[0].message.content"
   ]
  },
  {
   "cell_type": "code",
   "execution_count": 17,
   "id": "32c16307",
   "metadata": {},
   "outputs": [
    {
     "data": {
      "text/plain": [
       "{'name': 'Sunny Savita',\n",
       " 'college': 'IIT Delhi',\n",
       " 'grades': 8.5,\n",
       " 'club': 'AI Club'}"
      ]
     },
     "execution_count": 17,
     "metadata": {},
     "output_type": "execute_result"
    }
   ],
   "source": [
    "import json\n",
    "json.loads(output)"
   ]
  },
  {
   "cell_type": "code",
   "execution_count": 18,
   "id": "e7cc6bb4",
   "metadata": {},
   "outputs": [],
   "source": [
    "student_custom_function = [\n",
    "    {\n",
    "        'name': 'extract_student_info',\n",
    "        'description': 'Get the student information from the body of the input text',\n",
    "        'parameters': {\n",
    "            'type': 'object',\n",
    "            'properties': {\n",
    "                'name': {\n",
    "                    'type': 'string',\n",
    "                    'description': 'Name of the person'\n",
    "                },\n",
    "                'college': {\n",
    "                    'type': 'string',\n",
    "                    'description': 'The college name.'\n",
    "                },\n",
    "                'grades': {\n",
    "                    'type': 'integer',\n",
    "                    'description': 'CGPA of the student.'\n",
    "                },\n",
    "                'club': {\n",
    "                    'type': 'string',\n",
    "                    'description': 'college club for extracurricular activities. '\n",
    "                }\n",
    "                \n",
    "            }\n",
    "        }\n",
    "    }\n",
    "]"
   ]
  },
  {
   "cell_type": "code",
   "execution_count": 19,
   "id": "fc967ddb",
   "metadata": {},
   "outputs": [],
   "source": [
    "response2 = client.chat.completions.create(\n",
    "    model=\"gpt-3.5-turbo\",\n",
    "    messages=[{\"role\": \"user\", \"content\": prompt }],\n",
    "    functions=student_custom_function\n",
    ")"
   ]
  },
  {
   "cell_type": "code",
   "execution_count": 20,
   "id": "14bf0916",
   "metadata": {},
   "outputs": [
    {
     "data": {
      "text/plain": [
       "FunctionCall(arguments='{}', name='extract_student_info')"
      ]
     },
     "execution_count": 20,
     "metadata": {},
     "output_type": "execute_result"
    }
   ],
   "source": [
    "response2.choices[0].message.function_call"
   ]
  },
  {
   "cell_type": "code",
   "execution_count": 21,
   "id": "3b1a91aa",
   "metadata": {},
   "outputs": [
    {
     "data": {
      "text/plain": [
       "ChatCompletionMessage(content=None, role='assistant', function_call=FunctionCall(arguments='{}', name='extract_student_info'), tool_calls=None)"
      ]
     },
     "execution_count": 21,
     "metadata": {},
     "output_type": "execute_result"
    }
   ],
   "source": [
    "response2.choices[0].message"
   ]
  },
  {
   "cell_type": "code",
   "execution_count": 22,
   "id": "47110924",
   "metadata": {},
   "outputs": [
    {
     "data": {
      "text/plain": [
       "FunctionCall(arguments='{}', name='extract_student_info')"
      ]
     },
     "execution_count": 22,
     "metadata": {},
     "output_type": "execute_result"
    }
   ],
   "source": [
    "response2.choices[0].message.function_call"
   ]
  },
  {
   "cell_type": "code",
   "execution_count": 23,
   "id": "a7a8d58b",
   "metadata": {},
   "outputs": [
    {
     "data": {
      "text/plain": [
       "'{}'"
      ]
     },
     "execution_count": 23,
     "metadata": {},
     "output_type": "execute_result"
    }
   ],
   "source": [
    "response2.choices[0].message.function_call.arguments"
   ]
  },
  {
   "cell_type": "code",
   "execution_count": 24,
   "id": "8c86033a",
   "metadata": {},
   "outputs": [
    {
     "data": {
      "text/plain": [
       "{}"
      ]
     },
     "execution_count": 24,
     "metadata": {},
     "output_type": "execute_result"
    }
   ],
   "source": [
    "json.loads(response2.choices[0].message.function_call.arguments)"
   ]
  },
  {
   "cell_type": "code",
   "execution_count": 25,
   "id": "60451091",
   "metadata": {},
   "outputs": [],
   "source": [
    "student_description_two=\"krish naik is a student of computer science at IIT Mumbai. He is an indian and has a 9.5 GPA. krish is known for his programming skills and is an active member of the college's data science Club. He hopes to pursue a career in artificial intelligence after graduating.\""
   ]
  },
  {
   "cell_type": "code",
   "execution_count": 26,
   "id": "73937dc5",
   "metadata": {},
   "outputs": [
    {
     "data": {
      "text/plain": [
       "\"krish naik is a student of computer science at IIT Mumbai. He is an indian and has a 9.5 GPA. krish is known for his programming skills and is an active member of the college's data science Club. He hopes to pursue a career in artificial intelligence after graduating.\""
      ]
     },
     "execution_count": 26,
     "metadata": {},
     "output_type": "execute_result"
    }
   ],
   "source": [
    "student_description_two"
   ]
  },
  {
   "cell_type": "code",
   "execution_count": 27,
   "id": "0dfbaae7",
   "metadata": {},
   "outputs": [],
   "source": [
    "student_description_three=\"sudhanshu kumar is a student of computer science at IIT bengalore. He is an indian and has a 9.2 GPA. krish is known for his programming skills and is an active member of the college's MLops Club. He hopes to pursue a career in artificial intelligence after graduating.\""
   ]
  },
  {
   "cell_type": "code",
   "execution_count": 28,
   "id": "53bc0b21",
   "metadata": {},
   "outputs": [
    {
     "data": {
      "text/plain": [
       "\"sudhanshu kumar is a student of computer science at IIT bengalore. He is an indian and has a 9.2 GPA. krish is known for his programming skills and is an active member of the college's MLops Club. He hopes to pursue a career in artificial intelligence after graduating.\""
      ]
     },
     "execution_count": 28,
     "metadata": {},
     "output_type": "execute_result"
    }
   ],
   "source": [
    "student_description_three"
   ]
  },
  {
   "cell_type": "code",
   "execution_count": 29,
   "id": "ccfca439",
   "metadata": {},
   "outputs": [
    {
     "name": "stdout",
     "output_type": "stream",
     "text": [
      "sunny savita is a student of computer science at IIT delhi. He is an indian and has a 8.5 GPA. Sunny is known for his programming skills and is an active member of the college's AI Club. He hopes to pursue a career in artificial intelligence after graduating.\n",
      "krish naik is a student of computer science at IIT Mumbai. He is an indian and has a 9.5 GPA. krish is known for his programming skills and is an active member of the college's data science Club. He hopes to pursue a career in artificial intelligence after graduating.\n",
      "sudhanshu kumar is a student of computer science at IIT bengalore. He is an indian and has a 9.2 GPA. krish is known for his programming skills and is an active member of the college's MLops Club. He hopes to pursue a career in artificial intelligence after graduating.\n"
     ]
    }
   ],
   "source": [
    "student_info = [student_description, student_description_two,student_description_three]\n",
    "for student in student_info:\n",
    "    print(student)"
   ]
  },
  {
   "cell_type": "code",
   "execution_count": 30,
   "id": "94696299",
   "metadata": {},
   "outputs": [
    {
     "name": "stdout",
     "output_type": "stream",
     "text": [
      "{}\n",
      "{}\n",
      "{}\n"
     ]
    }
   ],
   "source": [
    "import json\n",
    "student_info = [student_description, student_description_two,student_description_three]\n",
    "for student in student_info:\n",
    "    response =  client.chat.completions.create(\n",
    "        model = 'gpt-3.5-turbo',\n",
    "        messages = [{'role': 'user', 'content': student}],\n",
    "        functions = student_custom_function,\n",
    "        function_call = 'auto'\n",
    "    )\n",
    "\n",
    "    response = json.loads(response.choices[0].message.function_call.arguments)\n",
    "    print(response)#import csv"
   ]
  },
  {
   "cell_type": "code",
   "execution_count": 31,
   "id": "44018b66",
   "metadata": {},
   "outputs": [],
   "source": [
    "function_two=student_custom_function = [\n",
    "    {\n",
    "        'name': 'extract_student_info',\n",
    "        'description': 'Get the student information from the body of the input text',\n",
    "        'parameters': {\n",
    "            'type': 'object',\n",
    "            'properties': {\n",
    "                'name': {\n",
    "                    'type': 'string',\n",
    "                    'description': 'Name of the person'\n",
    "                },\n",
    "                'college': {\n",
    "                    'type': 'string',\n",
    "                    'description': 'The college name.'\n",
    "                },\n",
    "                'grades': {\n",
    "                    'type': 'integer',\n",
    "                    'description': 'CGPA of the student.'\n",
    "                },\n",
    "                'club': {\n",
    "                    'type': 'string',\n",
    "                    'description': 'college club for extracurricular activities. '\n",
    "                }\n",
    "                \n",
    "            }\n",
    "        }\n",
    "    }\n",
    "]"
   ]
  },
  {
   "cell_type": "code",
   "execution_count": 32,
   "id": "ee95e1b0",
   "metadata": {},
   "outputs": [
    {
     "name": "stdout",
     "output_type": "stream",
     "text": [
      "{'name': 'Sunny Savita', 'college': 'IIT Delhi', 'grades': 8.5, 'club': 'AI Club'}\n",
      "{'name': 'krish naik', 'college': 'IIT Mumbai', 'grades': 9.5, 'club': 'data science Club'}\n",
      "{'name': 'sudhanshu kumar', 'college': 'IIT bengalore', 'grades': 92, 'club': 'MLops Club'}\n"
     ]
    }
   ],
   "source": [
    "functions = [student_custom_function[0], function_two[0]]\n",
    "student_info = [student_description, student_description_two,student_description_three]\n",
    "for student in student_info:\n",
    "    response =  client.chat.completions.create(\n",
    "        model = 'gpt-3.5-turbo',\n",
    "        messages = [{'role': 'user', 'content': student}],\n",
    "        functions = functions,\n",
    "        function_call = 'auto'\n",
    "    )\n",
    "\n",
    "    response = json.loads(response.choices[0].message.function_call.arguments)\n",
    "    print(response)#import csv"
   ]
  },
  {
   "cell_type": "code",
   "execution_count": 33,
   "id": "af279909",
   "metadata": {},
   "outputs": [],
   "source": [
    "response = client.chat.completions.create(\n",
    "    model=\"gpt-3.5-turbo\",\n",
    "    messages=[\n",
    "    {\n",
    "      \"role\": \"user\",\n",
    "      \"content\": \"When's the next flight from delhi to mumbai?\"\n",
    "    }\n",
    "      ]\n",
    ")"
   ]
  },
  {
   "cell_type": "code",
   "execution_count": 34,
   "id": "e6f11498",
   "metadata": {},
   "outputs": [
    {
     "data": {
      "text/plain": [
       "\"I'm sorry, but I am not able to provide real-time flight information. It is recommended that you check with the airlines directly or search on a flight booking website to find the next available flight from Delhi to Mumbai.\""
      ]
     },
     "execution_count": 34,
     "metadata": {},
     "output_type": "execute_result"
    }
   ],
   "source": [
    "response.choices[0].message.content"
   ]
  },
  {
   "cell_type": "code",
   "execution_count": 35,
   "id": "b8519e87",
   "metadata": {},
   "outputs": [],
   "source": [
    "function_descriptions = [\n",
    "    {\n",
    "        \"name\": \"get_flight_info\",\n",
    "        \"description\": \"Get flight information between two locations\",\n",
    "        \"parameters\": {\n",
    "            \"type\": \"object\",\n",
    "            \"properties\": {\n",
    "                \"loc_origin\": {\n",
    "                    \"type\": \"string\",\n",
    "                    \"description\": \"The departure airport, e.g. DEL\",\n",
    "                },\n",
    "                \"loc_destination\": {\n",
    "                    \"type\": \"string\",\n",
    "                    \"description\": \"The destination airport, e.g. MUM\",\n",
    "                },\n",
    "            },\n",
    "            \"required\": [\"loc_origin\", \"loc_destination\"],\n",
    "        },\n",
    "    }\n",
    "]"
   ]
  },
  {
   "cell_type": "code",
   "execution_count": 36,
   "id": "001b7958",
   "metadata": {},
   "outputs": [],
   "source": [
    "user_prompt = \"When's the next flight from new delhi to mumbai?\""
   ]
  },
  {
   "cell_type": "code",
   "execution_count": 37,
   "id": "d3e3ea22",
   "metadata": {},
   "outputs": [],
   "source": [
    "response2 = client.chat.completions.create(\n",
    "    model=\"gpt-3.5-turbo\",\n",
    "    messages=[\n",
    "    {\n",
    "      \"role\": \"user\",\n",
    "      \"content\": user_prompt\n",
    "    }\n",
    "      ],\n",
    "    # Add function calling\n",
    "    functions=function_descriptions,\n",
    "    function_call=\"auto\",  # specify the function call\n",
    "    \n",
    ")"
   ]
  },
  {
   "cell_type": "code",
   "execution_count": 38,
   "id": "b046be65",
   "metadata": {},
   "outputs": [
    {
     "data": {
      "text/plain": [
       "ChatCompletion(id='chatcmpl-94Km9alYevdvl9xHj54qna7hltR8h', choices=[Choice(finish_reason='function_call', index=0, logprobs=None, message=ChatCompletionMessage(content=None, role='assistant', function_call=FunctionCall(arguments='{\"loc_origin\":\"DEL\",\"loc_destination\":\"MUM\"}', name='get_flight_info'), tool_calls=None))], created=1710820201, model='gpt-3.5-turbo-0125', object='chat.completion', system_fingerprint='fp_4f2ebda25a', usage=CompletionUsage(completion_tokens=22, prompt_tokens=87, total_tokens=109))"
      ]
     },
     "execution_count": 38,
     "metadata": {},
     "output_type": "execute_result"
    }
   ],
   "source": [
    "response2"
   ]
  },
  {
   "cell_type": "code",
   "execution_count": 39,
   "id": "a2f31c48",
   "metadata": {},
   "outputs": [
    {
     "data": {
      "text/plain": [
       "ChatCompletionMessage(content=None, role='assistant', function_call=FunctionCall(arguments='{\"loc_origin\":\"DEL\",\"loc_destination\":\"MUM\"}', name='get_flight_info'), tool_calls=None)"
      ]
     },
     "execution_count": 39,
     "metadata": {},
     "output_type": "execute_result"
    }
   ],
   "source": [
    "response2.choices[0].message"
   ]
  },
  {
   "cell_type": "code",
   "execution_count": 40,
   "id": "2205cf59",
   "metadata": {},
   "outputs": [
    {
     "data": {
      "text/plain": [
       "'{\"loc_origin\":\"DEL\",\"loc_destination\":\"MUM\"}'"
      ]
     },
     "execution_count": 40,
     "metadata": {},
     "output_type": "execute_result"
    }
   ],
   "source": [
    "response2.choices[0].message.function_call.arguments"
   ]
  },
  {
   "cell_type": "code",
   "execution_count": 41,
   "id": "b8c61032",
   "metadata": {},
   "outputs": [],
   "source": [
    "from datetime import datetime,timedelta\n",
    "def get_flight_info(loc_origin, loc_destination):\n",
    "    \"\"\"Get flight information between two locations.\"\"\"\n",
    "\n",
    "    # Example output returned from an API or database\n",
    "    flight_info = {\n",
    "        \"loc_origin\": loc_origin,\n",
    "        \"loc_destination\": loc_destination,\n",
    "        \"datetime\": str(datetime.now() + timedelta(hours=2)),\n",
    "        \"airline\": \"KLM\",\n",
    "        \"flight\": \"KL643\",\n",
    "    }\n",
    "\n",
    "    return json.dumps(flight_info)"
   ]
  },
  {
   "cell_type": "code",
   "execution_count": 42,
   "id": "0a9bb0eb",
   "metadata": {},
   "outputs": [],
   "source": [
    "params=json.loads(response2.choices[0].message.function_call.arguments)"
   ]
  },
  {
   "cell_type": "code",
   "execution_count": 43,
   "id": "fa40f00a",
   "metadata": {},
   "outputs": [
    {
     "data": {
      "text/plain": [
       "{'loc_origin': 'DEL', 'loc_destination': 'MUM'}"
      ]
     },
     "execution_count": 43,
     "metadata": {},
     "output_type": "execute_result"
    }
   ],
   "source": [
    "params"
   ]
  },
  {
   "cell_type": "code",
   "execution_count": 44,
   "id": "31952f47",
   "metadata": {},
   "outputs": [
    {
     "data": {
      "text/plain": [
       "'DEL'"
      ]
     },
     "execution_count": 44,
     "metadata": {},
     "output_type": "execute_result"
    }
   ],
   "source": [
    "json.loads(response2.choices[0].message.function_call.arguments).get(\"loc_origin\")"
   ]
  },
  {
   "cell_type": "code",
   "execution_count": 45,
   "id": "9853d119",
   "metadata": {},
   "outputs": [
    {
     "data": {
      "text/plain": [
       "'MUM'"
      ]
     },
     "execution_count": 45,
     "metadata": {},
     "output_type": "execute_result"
    }
   ],
   "source": [
    "json.loads(response2.choices[0].message.function_call.arguments).get('loc_destination')"
   ]
  },
  {
   "cell_type": "code",
   "execution_count": 46,
   "id": "23488e11",
   "metadata": {},
   "outputs": [],
   "source": [
    "origin = json.loads(response2.choices[0].message.function_call.arguments).get(\"loc_origin\")\n",
    "destination = json.loads(response2.choices[0].message.function_call.arguments).get(\"loc_destination\")"
   ]
  },
  {
   "cell_type": "code",
   "execution_count": 47,
   "id": "8196008a",
   "metadata": {},
   "outputs": [
    {
     "data": {
      "text/plain": [
       "'get_flight_info'"
      ]
     },
     "execution_count": 47,
     "metadata": {},
     "output_type": "execute_result"
    }
   ],
   "source": [
    "response2.choices[0].message.function_call.name"
   ]
  },
  {
   "cell_type": "code",
   "execution_count": 48,
   "id": "5e1a3e8e",
   "metadata": {},
   "outputs": [
    {
     "data": {
      "text/plain": [
       "str"
      ]
     },
     "execution_count": 48,
     "metadata": {},
     "output_type": "execute_result"
    }
   ],
   "source": [
    "type(response2.choices[0].message.function_call.name)"
   ]
  },
  {
   "cell_type": "code",
   "execution_count": 49,
   "id": "8488f4ce",
   "metadata": {},
   "outputs": [
    {
     "data": {
      "text/plain": [
       "<function __main__.get_flight_info(loc_origin, loc_destination)>"
      ]
     },
     "execution_count": 49,
     "metadata": {},
     "output_type": "execute_result"
    }
   ],
   "source": [
    "eval(response2.choices[0].message.function_call.name)"
   ]
  },
  {
   "cell_type": "code",
   "execution_count": 50,
   "id": "bbebc893",
   "metadata": {},
   "outputs": [],
   "source": [
    "chosen_function=eval(response2.choices[0].message.function_call.name)"
   ]
  },
  {
   "cell_type": "code",
   "execution_count": 51,
   "id": "08e61df7",
   "metadata": {},
   "outputs": [
    {
     "name": "stdout",
     "output_type": "stream",
     "text": [
      "{\"loc_origin\": \"DEL\", \"loc_destination\": \"MUM\", \"datetime\": \"2024-03-19 01:50:06.595814\", \"airline\": \"KLM\", \"flight\": \"KL643\"}\n"
     ]
    }
   ],
   "source": [
    "flight = chosen_function(**params)\n",
    "\n",
    "print(flight)"
   ]
  },
  {
   "cell_type": "code",
   "execution_count": 52,
   "id": "7b0809cd",
   "metadata": {},
   "outputs": [
    {
     "data": {
      "text/plain": [
       "\"When's the next flight from new delhi to mumbai?\""
      ]
     },
     "execution_count": 52,
     "metadata": {},
     "output_type": "execute_result"
    }
   ],
   "source": [
    "user_prompt"
   ]
  },
  {
   "cell_type": "code",
   "execution_count": 53,
   "id": "b42486e5",
   "metadata": {},
   "outputs": [
    {
     "data": {
      "text/plain": [
       "'get_flight_info'"
      ]
     },
     "execution_count": 53,
     "metadata": {},
     "output_type": "execute_result"
    }
   ],
   "source": [
    "response2.choices[0].message.function_call.name"
   ]
  },
  {
   "cell_type": "code",
   "execution_count": 54,
   "id": "a57c6c50",
   "metadata": {},
   "outputs": [
    {
     "data": {
      "text/plain": [
       "'{\"loc_origin\": \"DEL\", \"loc_destination\": \"MUM\", \"datetime\": \"2024-03-19 01:50:06.595814\", \"airline\": \"KLM\", \"flight\": \"KL643\"}'"
      ]
     },
     "execution_count": 54,
     "metadata": {},
     "output_type": "execute_result"
    }
   ],
   "source": [
    "flight"
   ]
  },
  {
   "cell_type": "code",
   "execution_count": 55,
   "id": "d0e8fe53",
   "metadata": {},
   "outputs": [],
   "source": [
    "response3 = client.chat.completions.create(\n",
    "    model=\"gpt-3.5-turbo\",\n",
    "    messages=[\n",
    "    {\"role\": \"user\",\"content\": user_prompt},\n",
    "    {\"role\": \"function\", \"name\": response2.choices[0].message.function_call.name, \"content\": flight}\n",
    "      ],\n",
    "    # Add function calling\n",
    "    functions=function_descriptions,\n",
    "    function_call=\"auto\",  # specify the function call\n",
    "    \n",
    ")"
   ]
  },
  {
   "cell_type": "code",
   "execution_count": 56,
   "id": "abbe8749",
   "metadata": {},
   "outputs": [
    {
     "data": {
      "text/plain": [
       "ChatCompletion(id='chatcmpl-94KmARQpFPgXb2yJoIyWPfKzlTjFj', choices=[Choice(finish_reason='stop', index=0, logprobs=None, message=ChatCompletionMessage(content='The next flight from New Delhi (DEL) to Mumbai (MUM) is on 19th March 2024. The flight is with KLM Airlines and the flight number is KL643.', role='assistant', function_call=None, tool_calls=None))], created=1710820202, model='gpt-3.5-turbo-0125', object='chat.completion', system_fingerprint='fp_4f2ebda25a', usage=CompletionUsage(completion_tokens=41, prompt_tokens=143, total_tokens=184))"
      ]
     },
     "execution_count": 56,
     "metadata": {},
     "output_type": "execute_result"
    }
   ],
   "source": [
    "response3"
   ]
  },
  {
   "cell_type": "code",
   "execution_count": 57,
   "id": "78848b28",
   "metadata": {},
   "outputs": [
    {
     "data": {
      "text/plain": [
       "'The next flight from New Delhi (DEL) to Mumbai (MUM) is on 19th March 2024. The flight is with KLM Airlines and the flight number is KL643.'"
      ]
     },
     "execution_count": 57,
     "metadata": {},
     "output_type": "execute_result"
    }
   ],
   "source": [
    "response3.choices[0].message.content"
   ]
  },
  {
   "cell_type": "markdown",
   "id": "d460a6a0",
   "metadata": {},
   "source": [
    "# LangChain"
   ]
  },
  {
   "cell_type": "code",
   "execution_count": 58,
   "id": "f651b0d2",
   "metadata": {},
   "outputs": [],
   "source": [
    "import langchain\n",
    "from langchain.llms import OpenAI"
   ]
  },
  {
   "cell_type": "code",
   "execution_count": 59,
   "id": "ae8f8829",
   "metadata": {},
   "outputs": [
    {
     "name": "stderr",
     "output_type": "stream",
     "text": [
      "C:\\ProgramData\\anaconda3\\envs\\openai\\lib\\site-packages\\langchain_core\\_api\\deprecation.py:117: LangChainDeprecationWarning: The class `langchain_community.llms.openai.OpenAI` was deprecated in langchain-community 0.0.10 and will be removed in 0.2.0. An updated version of the class exists in the langchain-openai package and should be used instead. To use it run `pip install -U langchain-openai` and import as `from langchain_openai import OpenAI`.\n",
      "  warn_deprecated(\n"
     ]
    }
   ],
   "source": [
    "client=OpenAI(openai_api_key=API_KEY)"
   ]
  },
  {
   "cell_type": "code",
   "execution_count": 60,
   "id": "d63e861e",
   "metadata": {},
   "outputs": [],
   "source": [
    "# zero shot prompting\n",
    "prompt=\"can you tell me total number of country in aisa? can you give me top 10 contry name?\""
   ]
  },
  {
   "cell_type": "code",
   "execution_count": 61,
   "id": "84bca9e5",
   "metadata": {},
   "outputs": [
    {
     "name": "stderr",
     "output_type": "stream",
     "text": [
      "C:\\ProgramData\\anaconda3\\envs\\openai\\lib\\site-packages\\langchain_core\\_api\\deprecation.py:117: LangChainDeprecationWarning: The function `predict` was deprecated in LangChain 0.1.7 and will be removed in 0.2.0. Use invoke instead.\n",
      "  warn_deprecated(\n"
     ]
    },
    {
     "name": "stdout",
     "output_type": "stream",
     "text": [
      "There are 48 countries in Asia. The top 10 countries in Asia, based on population, are:\n",
      "\n",
      "1. China\n",
      "2. India\n",
      "3. Indonesia\n",
      "4. Pakistan\n",
      "5. Bangladesh\n",
      "6. Japan\n",
      "7. Philippines\n",
      "8. Vietnam\n",
      "9. Iran\n",
      "10. Turkey\n"
     ]
    }
   ],
   "source": [
    "print(client.predict(prompt).strip())"
   ]
  },
  {
   "cell_type": "code",
   "execution_count": 62,
   "id": "6c0c20b7",
   "metadata": {},
   "outputs": [],
   "source": [
    "# zero shot prompting\n",
    "prompt2=\"can you tell me a capital of india?\""
   ]
  },
  {
   "cell_type": "code",
   "execution_count": 63,
   "id": "f180e083",
   "metadata": {},
   "outputs": [
    {
     "data": {
      "text/plain": [
       "'The capital of India is New Delhi.'"
      ]
     },
     "execution_count": 63,
     "metadata": {},
     "output_type": "execute_result"
    }
   ],
   "source": [
    "client.predict(prompt2).strip()"
   ]
  },
  {
   "cell_type": "code",
   "execution_count": 64,
   "id": "af1b1144",
   "metadata": {},
   "outputs": [],
   "source": [
    "prompt3=\"​what exactly tokens , vector ?\""
   ]
  },
  {
   "cell_type": "code",
   "execution_count": 65,
   "id": "ba18c9a9",
   "metadata": {},
   "outputs": [
    {
     "data": {
      "text/plain": [
       "'In computer programming, tokens refer to the smallest individual units of a programming language. These can include keywords, identifiers, operators, and symbols that have a specific meaning within the language. Tokens are used to form expressions, statements, and other code structures.\\n\\nIn the context of data structures, tokens can also refer to a specific data type or object that represents a piece of data. For example, in a linked list data structure, each element or node can be considered a token.\\n\\nIn graphics and design, vector refers to a type of image format that uses mathematical equations and geometric shapes to create images. Unlike raster images, which are made up of pixels and can become pixelated when enlarged, vector images can be scaled to any size without losing quality. This makes them ideal for logos, icons, and other graphic designs. Vectors are also commonly used in computer-aided design (CAD) programs for creating precise and scalable designs.'"
      ]
     },
     "execution_count": 65,
     "metadata": {},
     "output_type": "execute_result"
    }
   ],
   "source": [
    "client.predict(prompt3).strip()"
   ]
  },
  {
   "cell_type": "markdown",
   "id": "23e38ae4",
   "metadata": {},
   "source": [
    "# Prompt Template"
   ]
  },
  {
   "cell_type": "code",
   "execution_count": 66,
   "id": "a546279d",
   "metadata": {},
   "outputs": [],
   "source": [
    "from langchain.prompts import PromptTemplate"
   ]
  },
  {
   "cell_type": "code",
   "execution_count": 67,
   "id": "5d375a15",
   "metadata": {},
   "outputs": [],
   "source": [
    "prompt_template_name=PromptTemplate(\n",
    "    input_variables=[\"country\"],\n",
    "    template=\"can you tell me the capital of {country}?\"\n",
    ")"
   ]
  },
  {
   "cell_type": "code",
   "execution_count": 68,
   "id": "18e83cb5",
   "metadata": {},
   "outputs": [],
   "source": [
    "propmt1=prompt_template_name.format(country=\"india\")"
   ]
  },
  {
   "cell_type": "code",
   "execution_count": 69,
   "id": "0c2976a9",
   "metadata": {},
   "outputs": [],
   "source": [
    "propmt2=prompt_template_name.format(country=\"china\")"
   ]
  },
  {
   "cell_type": "code",
   "execution_count": 70,
   "id": "1e2d851f",
   "metadata": {},
   "outputs": [
    {
     "data": {
      "text/plain": [
       "'The capital of India is New Delhi.'"
      ]
     },
     "execution_count": 70,
     "metadata": {},
     "output_type": "execute_result"
    }
   ],
   "source": [
    "client.predict(propmt1).strip()"
   ]
  },
  {
   "cell_type": "code",
   "execution_count": 71,
   "id": "3d305f1a",
   "metadata": {},
   "outputs": [
    {
     "data": {
      "text/plain": [
       "'The capital of China is Beijing.'"
      ]
     },
     "execution_count": 71,
     "metadata": {},
     "output_type": "execute_result"
    }
   ],
   "source": [
    "client.predict(propmt2).strip()"
   ]
  },
  {
   "cell_type": "markdown",
   "id": "4dc0372c",
   "metadata": {},
   "source": [
    "# Agent"
   ]
  },
  {
   "cell_type": "markdown",
   "id": "2a6c8057",
   "metadata": {},
   "source": [
    "#### for extracting real time info we are going to use serp API, now using this api google search engine api will be called and extract realtime information"
   ]
  },
  {
   "cell_type": "code",
   "execution_count": 72,
   "id": "519fa1ec",
   "metadata": {},
   "outputs": [],
   "source": [
    "from langchain.agents import AgentType\n",
    "from langchain.agents import load_tools\n",
    "from langchain.agents import initialize_agent\n",
    "from langchain.llms import OpenAI"
   ]
  },
  {
   "cell_type": "code",
   "execution_count": 73,
   "id": "a051dad9",
   "metadata": {},
   "outputs": [],
   "source": [
    "SERPAPI_API_KEY = os.environ.get(\"SERPAPI_API_KEY\")"
   ]
  },
  {
   "cell_type": "code",
   "execution_count": 74,
   "id": "dc80d39c",
   "metadata": {},
   "outputs": [],
   "source": [
    "tool = load_tools([\"serpapi\"], serpapi_key=SERPAPI_API_KEY, llm=client)"
   ]
  },
  {
   "cell_type": "code",
   "execution_count": 75,
   "id": "4d783a8c",
   "metadata": {},
   "outputs": [
    {
     "name": "stderr",
     "output_type": "stream",
     "text": [
      "C:\\ProgramData\\anaconda3\\envs\\openai\\lib\\site-packages\\langchain_core\\_api\\deprecation.py:117: LangChainDeprecationWarning: The function `initialize_agent` was deprecated in LangChain 0.1.0 and will be removed in 0.2.0. Use Use new agent constructor methods like create_react_agent, create_json_agent, create_structured_chat_agent, etc. instead.\n",
      "  warn_deprecated(\n"
     ]
    }
   ],
   "source": [
    "agent = initialize_agent(tool, client, agent_type=AgentType.ZERO_SHOT_REACT_DESCRIPTION, verbose=True)"
   ]
  },
  {
   "cell_type": "code",
   "execution_count": 77,
   "id": "23dc99a6",
   "metadata": {},
   "outputs": [
    {
     "name": "stdout",
     "output_type": "stream",
     "text": [
      "\n",
      "\n",
      "\u001b[1m> Entering new AgentExecutor chain...\u001b[0m\n",
      "\u001b[32;1m\u001b[1;3m I should always think about what to do\n",
      "Action: Search\n",
      "Action Input: \"Top current affairs\"\u001b[0m\n",
      "Observation: \u001b[36;1m\u001b[1;3m[\"9news brings you the latest world news headlines from around the globe. Get international breaking news and current affairs reported by Nine's network of reporters.\", 'Americans need domestic unity for effective foreign policy. US opponents are working to worsen polarization.', \"GKToday's Current Affairs Today Section provides latest and Best Daily Current Affairs 2022-2023 for UPSC, IAS/PCS, Banking, IBPS, SSC, ...\", 'A magazine of politics & culture.', 'This post serves as a general guide on how to prepare for Current Affairs and offers various strategies to help succeed in upcoming banking exams.', 'Current Affairs · Praveen Kumar Will Be BRS General Secretary: KCR · Chavan Says He Never Met Sonia Gandhi, Never Cried Before Her · Bilateral Tri-Services ...', '... Current Affairs & Politics 3. Current Affairs & Politics Bestsellers. Featured in Books. Customer Favorites. B&N Top 100 · Teens & YA Top ...', 'Popular Current Affairs Blogs · 1. Jagran Josh · 2. AffairsCloud.com · 3. CURRENT AFFAIRS Archives - INSIGHTSIAS - Simplifying UPSC IAS Exam Preparation · 4.', 'Testbook is the most popular website for daily current affairs updates. Why are Current Affairs Important? Current Affairs are important to keep up with the ...', 'Breaking news on Politics, Business, Sports, Bollywood, Education, Science. Latest News on Politics, India, Current affairs. Times of India Covers all latest breaking news across India and world.']\u001b[0m\n",
      "Thought:\u001b[32;1m\u001b[1;3m I should always think about what to do\n",
      "Action: Search\n",
      "Action Input: \"Top current affairs 2021\"\u001b[0m\n",
      "Observation: \u001b[36;1m\u001b[1;3m['Current Affairs-2021 ; July 2021, Current Affairs and Events · Current Affairs and Events ; June 2021, Current Affairs and Events · Current Affairs and Events.', 'What are the current affairs topics for 2021? · Godavari River · Teesta River · Black Sea · Solar Storms · Hot Spring · Caspian Sea · Amazon Rainforest.', 'current affairs yearly 2021 is the current edition of the magazine that provides the complete coverage of current events from January 2020 to November 2020 ...', 'International Monetary Fund released the World Economic Outlook report in October 2021. Read here the highlights and some important facts of ...', \"GKToday's Current Affairs Today Section provides latest and Best Daily Current Affairs 2022-2023 for UPSC, IAS/PCS, Banking, IBPS, SSC, ...\", 'US News is a recognized leader in college, grad school, hospital, mutual fund, and car rankings. Track elected officials, research health conditions, ...', 'View the latest news and breaking news today for U.S., world, weather, entertainment, politics and health at CNN.com.']\u001b[0m\n",
      "Thought:\u001b[32;1m\u001b[1;3m I now know the final answer\n",
      "Final Answer: Some of the top current affairs for 2021 include international events such as the release of the World Economic Outlook report, domestic news such as domestic unity for effective foreign policy, and popular topics like the Amazon Rainforest and Solar Storms.\u001b[0m\n",
      "\n",
      "\u001b[1m> Finished chain.\u001b[0m\n"
     ]
    },
    {
     "data": {
      "text/plain": [
       "'Some of the top current affairs for 2021 include international events such as the release of the World Economic Outlook report, domestic news such as domestic unity for effective foreign policy, and popular topics like the Amazon Rainforest and Solar Storms.'"
      ]
     },
     "execution_count": 77,
     "metadata": {},
     "output_type": "execute_result"
    }
   ],
   "source": [
    "agent.run(\"Can you tell me 5 top current affairs?\")"
   ]
  },
  {
   "cell_type": "code",
   "execution_count": 78,
   "id": "4a137b2a",
   "metadata": {},
   "outputs": [
    {
     "name": "stdout",
     "output_type": "stream",
     "text": [
      "\n",
      "\n",
      "\u001b[1m> Entering new AgentExecutor chain...\u001b[0m\n",
      "\u001b[32;1m\u001b[1;3m I should think about using a search engine to find the answer.\n",
      "Action: Search\n",
      "Action Input: India election period\u001b[0m\n",
      "Observation: \u001b[36;1m\u001b[1;3m[{'title': 'India to hold seven-phase general election from April 19, results on June 4', 'link': 'https://www.aljazeera.com/news/2024/3/16/india-to-hold-seven-phase-general-election-from-april-19-results-on-june-4', 'source': 'Al Jazeera', 'date': '2 days ago', 'thumbnail': 'https://serpapi.com/searches/65f90bc4eb690fae7345e21f/images/901600f640df519569bb1b5d0fdf45671e7bd92c667cafcf.jpeg'}, {'title': 'Lok Sabha election 2024: India announces multi-phase general elections starting April 19', 'link': 'https://apnews.com/article/india-general-elections-2024-52fe2ee3260624c1658bacdbb1bd15a5', 'source': 'AP News', 'date': '2 days ago', 'thumbnail': 'https://serpapi.com/searches/65f90bc4eb690fae7345e21f/images/901600f640df51955f7a89dff3a5757d3b51d9c86b9447ec.jpeg'}, {'title': 'Date set for largest democratic election in human history', 'link': 'https://www.cnn.com/2024/03/16/india/india-election-date-intl/index.html', 'source': 'CNN', 'date': '2 days ago', 'thumbnail': 'https://serpapi.com/searches/65f90bc4eb690fae7345e21f/images/901600f640df51950b92969878780d0818dce7a90d04dc55.jpeg'}]\u001b[0m\n",
      "Thought:\u001b[32;1m\u001b[1;3m I should continue to search for more sources to confirm the information.\n",
      "Action: Search\n",
      "Action Input: India election period 2024\u001b[0m\n",
      "Observation: \u001b[36;1m\u001b[1;3m[{'title': \"Why India's Upcoming Election Will Last 44 Days\", 'link': 'https://time.com/6958093/india-elections-2024-phases-long/', 'source': 'Time Magazine', 'date': '10 hours ago', 'thumbnail': 'https://serpapi.com/searches/65f90bc69f55b34fa81ffa50/images/b6b9cde241be837eb8a3897d689b95eae64341e028296b43.jpeg'}, {'title': 'The 2024 Indian General Elections: Polling Dates', 'link': 'https://www.india-briefing.com/news/india-2024-elections-parliament-seven-phases-31611.html/', 'source': 'India Briefing', 'date': '17 hours ago', 'thumbnail': 'https://serpapi.com/searches/65f90bc69f55b34fa81ffa50/images/b6b9cde241be837e845073cdeb72170ba445eb41dbdf7ae2.jpeg'}, {'title': 'Lok Sabha election 2024: India announces multi-phase general elections starting April 19', 'link': 'https://apnews.com/article/india-general-elections-2024-52fe2ee3260624c1658bacdbb1bd15a5', 'source': 'AP News', 'date': '2 days ago', 'thumbnail': 'https://serpapi.com/searches/65f90bc69f55b34fa81ffa50/images/b6b9cde241be837e84bcc244877cd43095bc2284e52a4c38.jpeg'}]\u001b[0m\n",
      "Thought:\u001b[32;1m\u001b[1;3m I should now have enough information to answer the question.\n",
      "Final Answer: The 2024 Indian General Elections will be held in seven phases, with the first phase starting on April 19 and the results being announced on June 4.\u001b[0m\n",
      "\n",
      "\u001b[1m> Finished chain.\u001b[0m\n"
     ]
    },
    {
     "data": {
      "text/plain": [
       "'The 2024 Indian General Elections will be held in seven phases, with the first phase starting on April 19 and the results being announced on June 4.'"
      ]
     },
     "execution_count": 78,
     "metadata": {},
     "output_type": "execute_result"
    }
   ],
   "source": [
    "agent.run(\"can you tell me the election period of india?\")"
   ]
  },
  {
   "cell_type": "code",
   "execution_count": 79,
   "id": "04be0ecd",
   "metadata": {},
   "outputs": [],
   "source": [
    "tool_1 = load_tools(['wikipedia'], llm=client)\n",
    "agent = initialize_agent(tool_1, client, agent_type=AgentType.ZERO_SHOT_REACT_DESCRIPTION, verbose=True)"
   ]
  },
  {
   "cell_type": "code",
   "execution_count": 80,
   "id": "b21fcaa7",
   "metadata": {},
   "outputs": [
    {
     "name": "stdout",
     "output_type": "stream",
     "text": [
      "\n",
      "\n",
      "\u001b[1m> Entering new AgentExecutor chain...\u001b[0m\n",
      "\u001b[32;1m\u001b[1;3m The question is too vague.\n",
      "Final Answer: I cannot answer this question. Please provide more specific information about the cricket match you are referring to.\u001b[0m\n",
      "\n",
      "\u001b[1m> Finished chain.\u001b[0m\n"
     ]
    },
    {
     "data": {
      "text/plain": [
       "'I cannot answer this question. Please provide more specific information about the cricket match you are referring to.'"
      ]
     },
     "execution_count": 80,
     "metadata": {},
     "output_type": "execute_result"
    }
   ],
   "source": [
    "agent.run(\"Can you tell me about this recent cricket match?\")"
   ]
  },
  {
   "cell_type": "code",
   "execution_count": 81,
   "id": "695bcb58",
   "metadata": {},
   "outputs": [
    {
     "name": "stdout",
     "output_type": "stream",
     "text": [
      "\n",
      "\n",
      "\u001b[1m> Entering new AgentExecutor chain...\u001b[0m\n",
      "\u001b[32;1m\u001b[1;3m I should search for information about Atharva Bhusari on Wikipedia\n",
      "Action: wikipedia\n",
      "Action Input: Atharva Bhusari\u001b[0m\n",
      "Observation: \u001b[36;1m\u001b[1;3mNo good Wikipedia Search Result was found\u001b[0m\n",
      "Thought:\u001b[32;1m\u001b[1;3m Maybe I should try searching for \"Atharva Bhusari (cricketer)\" instead\n",
      "Action: wikipedia\n",
      "Action Input: Atharva Bhusari (cricketer)\u001b[0m\n",
      "Observation: \u001b[36;1m\u001b[1;3mNo good Wikipedia Search Result was found\u001b[0m\n",
      "Thought:\u001b[32;1m\u001b[1;3m I should try searching for \"Atharva Bhusari (footballer)\" instead\n",
      "Action: wikipedia\n",
      "Action Input: Atharva Bhusari (footballer)\u001b[0m\n",
      "Observation: \u001b[36;1m\u001b[1;3mNo good Wikipedia Search Result was found\u001b[0m\n",
      "Thought:\u001b[32;1m\u001b[1;3m There must not be a notable person named Atharva Bhusari\n",
      "Final Answer: I was unable to find information about Atharva Bhusari. It is possible that there is not a notable person by that name.\u001b[0m\n",
      "\n",
      "\u001b[1m> Finished chain.\u001b[0m\n"
     ]
    },
    {
     "data": {
      "text/plain": [
       "'I was unable to find information about Atharva Bhusari. It is possible that there is not a notable person by that name.'"
      ]
     },
     "execution_count": 81,
     "metadata": {},
     "output_type": "execute_result"
    }
   ],
   "source": [
    "agent.run(\"Tell me about Atharva Bhusari\")"
   ]
  },
  {
   "cell_type": "code",
   "execution_count": 82,
   "id": "89ed4e3c",
   "metadata": {},
   "outputs": [],
   "source": [
    "agent = initialize_agent(tool, client, agent_type=AgentType.ZERO_SHOT_REACT_DESCRIPTION, verbose=True)"
   ]
  },
  {
   "cell_type": "code",
   "execution_count": 83,
   "id": "961fbba6",
   "metadata": {},
   "outputs": [
    {
     "name": "stdout",
     "output_type": "stream",
     "text": [
      "\n",
      "\n",
      "\u001b[1m> Entering new AgentExecutor chain...\u001b[0m\n",
      "\u001b[32;1m\u001b[1;3m Hmm, I'm not familiar with that name.\n",
      "Action: Search\n",
      "Action Input: Atharva Bhusari\u001b[0m\n",
      "Observation: \u001b[36;1m\u001b[1;3m[\"I am passionate about uncovering hidden patterns and insights that drive decision-making… | Learn more about Atharva Harshavardhan Bhusari's work experience ...\", 'View the profiles of professionals named \"Atharva Bhusari\" on LinkedIn. There are 2 professionals named \"Atharva Bhusari\", who use LinkedIn to exchange ...', '0 Followers, 538 Following, 109 Posts - See Instagram photos and videos from Atharva Bhusari (@atharva_bhusari)', 'Atharva Bhusari ,. Atharva Bhusari. Rutgers Institute for Health, Health Care Policy and Aging Research, Rutgers, The State University of New Jersey. , New ...', 'Atharva Bhusari · Studied at Monash University · Lives in Melbourne, Victoria, Australia · From Wardha · Joined September 2011 · Followed by 173 people.', 'Data Science Graduate Student at Rutgers University | Looking for Spring Co-op and Fulltime Opportunities for 2024 ; Research Assistant. Aug 2023 - Oct 2023 (2 m).', 'Atharva Bhusari. Home ... Atharva Bhusari. @atharvabhusari965‧6 subscribers‧3 videos‧. Trying to make an youtube channel. Subscribe.', 'Data Science Graduate Student at Rutgers University | Looking for Spring Co-op and Fulltime Opportunities for 2024.', 'Atharva Harshavardhan Bhusari. +1 (848)-391-5780 | atharva.bhusari@rutgers.edu | https://www.linkedin.com/in/atharva-bhusari/ | https://github.com/atharva- ...']\u001b[0m\n",
      "Thought:\u001b[32;1m\u001b[1;3m Looks like Atharva Bhusari is a data science graduate student at Rutgers University.\n",
      "Action: Search\n",
      "Action Input: Atharva Bhusari Rutgers\u001b[0m\n",
      "Observation: \u001b[36;1m\u001b[1;3m[\"I am passionate about uncovering hidden patterns and insights that drive decision-making… | Learn more about Atharva Harshavardhan Bhusari's work experience ...\", 'Atharva Bhusari. Business Analyst. Mulgrave, VIC. Monash University ... Rutgers Institute for Health, Health Care Policy and Aging Research, +3 more.', 'Atharva Harshavardhan Bhusari. Research Assistant/Scientist. Project: AI/ML pipeline development for biomarkers discovery and disease prediction. Alumni.', \"View Atharva Harshavardhan Bhusari's WayUp ... Atharva Harshavardhan's professional qualifications and educational background at Rutgers University-New Brunswick ...\", 'Data Science Graduate Student at Rutgers University | Looking for Spring Co-op and Fulltime Opportunities for 2024 ; Research Assistant. Aug 2023 - Oct 2023 (2 m).', 'Project: “Participated in Multiple Projects, including Integrated ACMG-approved genes and ICD codes”. Atharva Harshavardhan Bhusari, Research Scientist/ ...', 'Atharva Bhusari ,. Atharva Bhusari. Rutgers Institute for Health, Health Care Policy and Aging Research, Rutgers, The State University of New Jersey. , New ...', 'Atharva Harshavardhan Bhusari. Data Science Graduate Student at Rutgers University | Looking for Spring Co-op and Fulltime Opportunities for 2024. Member ...', \"Atharva Bhusari. atharva_bhusari. Work. Sweat. Achieve ✌️ <- because this is mandatory Rutgers '24. Pune. 24. 109 posts; 261 followers; 524 ...\"]\u001b[0m\n",
      "Thought:\u001b[32;1m\u001b[1;3m It seems like Atharva Bhusari is currently a data science graduate student at Rutgers University and has a background in Business Analytics and AI/ML pipeline development.\n",
      "Thought: I now know the final answer.\n",
      "Final Answer: Atharva Bhusari is a data science graduate student at Rutgers University with a background in Business Analytics and AI/ML pipeline development.\u001b[0m\n",
      "\n",
      "\u001b[1m> Finished chain.\u001b[0m\n"
     ]
    },
    {
     "data": {
      "text/plain": [
       "'Atharva Bhusari is a data science graduate student at Rutgers University with a background in Business Analytics and AI/ML pipeline development.'"
      ]
     },
     "execution_count": 83,
     "metadata": {},
     "output_type": "execute_result"
    }
   ],
   "source": [
    "agent.run(\"Can you tell me who is Atharva Bhusari?\")"
   ]
  },
  {
   "cell_type": "code",
   "execution_count": 84,
   "id": "aeef2afb",
   "metadata": {},
   "outputs": [
    {
     "name": "stdout",
     "output_type": "stream",
     "text": [
      "\n",
      "\n",
      "\u001b[1m> Entering new AgentExecutor chain...\u001b[0m\n",
      "\u001b[32;1m\u001b[1;3m I should always think about what to do\n",
      "Action: Search\n",
      "Action Input: Recent cricket match\u001b[0m\n",
      "Observation: \u001b[36;1m\u001b[1;3m{'title': 'ICC', 'thumbnail': 'https://serpapi.com/searches/65f90bddf8f5f79078d10e2c/images/460fa5e25bd6e3da4803fda59f30ff172557f3a3c17844c0503d1b1cab24c4d0.png', 'games': [{'tournament': 'International Cricket Council', 'stadium': 'Sharjah Cricket Stadium', 'date': 'Today', 'teams': [{'name': 'Afghanistan', 'score': '155/7 (20)', 'thumbnail': 'https://serpapi.com/searches/65f90bddf8f5f79078d10e2c/images/460fa5e25bd6e3da2c84ea57f4cf552dae691a5af05139e13e78f7d98b9efa2651f976d9162f1652b1726bccfd221e01.png'}, {'name': 'Ireland', 'score': '98 (17.2)', 'thumbnail': 'https://serpapi.com/searches/65f90bddf8f5f79078d10e2c/images/460fa5e25bd6e3da2c84ea57f4cf552dae691a5af05139e15039bff9a3b0defc0b9d02400c58f359a39402871bd92e57.png'}], 'status': 'AFG won by 57 runs'}, {'tournament': 'Cricket one-off tournaments', 'stadium': 'Achimota Senior Secondary School B Field', 'stage': 'Group stage · T20 8 of 16', 'date': 'Today', 'teams': [{'name': 'Uganda', 'score': '194/5 (20)', 'thumbnail': 'https://serpapi.com/searches/65f90bddf8f5f79078d10e2c/images/460fa5e25bd6e3da2c84ea57f4cf552d004053b1b64119d71d5f59c8a08049862648141ff5eda65bd43a5ca4bef2c6d3.png'}, {'name': 'Ghana', 'score': '73 (16)', 'thumbnail': 'https://serpapi.com/searches/65f90bddf8f5f79078d10e2c/images/460fa5e25bd6e3da2c84ea57f4cf552d004053b1b64119d71d325e6893831404a929fb838043a01991678258980aa4cf.png'}], 'status': 'UGA won by 121 runs'}, {'tournament': 'Cricket one-off tournaments', 'stadium': 'Achimota Senior Secondary School A Field, Accra', 'stage': 'Group stage · T20 7 of 16', 'date': 'Today', 'teams': [{'name': 'Kenya', 'score': '141/6 (20)', 'thumbnail': 'https://serpapi.com/searches/65f90bddf8f5f79078d10e2c/images/460fa5e25bd6e3da2c84ea57f4cf552d843e2b24ea6962e12f0961cd839acee6a0feace59dc16ba30231691906410159.png'}, {'name': 'South Africa', 'score': '71 (15)', 'thumbnail': 'https://serpapi.com/searches/65f90bddf8f5f79078d10e2c/images/460fa5e25bd6e3da2c84ea57f4cf552d843e2b24ea6962e1592039ff55dd328117fb0cde109c7ae8fb3b0ae4fd5d23dd.png'}], 'status': 'KEN won by 70 runs'}, {'tournament': 'Cricket one-off tournaments', 'stadium': 'Achimota Senior Secondary School B Field', 'stage': 'Group stage · T20 6 of 16', 'date': 'Today', 'teams': [{'name': 'Namibia', 'score': '121/7 (20)', 'thumbnail': 'https://serpapi.com/searches/65f90bddf8f5f79078d10e2c/images/460fa5e25bd6e3da2c84ea57f4cf552d3d1047dacaac5b97df55971c2cd826f1a151c55300bd08ce4aae469ae0ca327d.png'}, {'name': 'Nigeria', 'score': '126/7 (20)', 'thumbnail': 'https://serpapi.com/searches/65f90bddf8f5f79078d10e2c/images/460fa5e25bd6e3da2c84ea57f4cf552d3d1047dacaac5b9781f5171a74bf872185640813cd560895302b940fc181ab80.png'}], 'status': 'NGR won by 3 wickets (0 balls left)'}, {'tournament': 'Cricket one-off tournaments', 'stadium': 'Achimota Senior Secondary School A Field, Accra', 'stage': 'Group stage · T20 5 of 16', 'date': 'Today', 'teams': [{'name': 'Tanzania', 'score': '86 (19.5)', 'thumbnail': 'https://serpapi.com/searches/65f90bddf8f5f79078d10e2c/images/460fa5e25bd6e3da2c84ea57f4cf552df6af5cea24232a9491dfa0bc94c87e130d18a0a04cb67a2c3590dc62cd4e2fce.png'}, {'name': 'Zimbabwe', 'score': '90/6 (16.3)', 'thumbnail': 'https://serpapi.com/searches/65f90bddf8f5f79078d10e2c/images/460fa5e25bd6e3da2c84ea57f4cf552df6af5cea24232a94de6c9c0a1a7e16188f317d9c2aadfd41c462ac8ecfbfd2f9.png'}], 'status': 'ZIM won by 4 wickets (21 balls left)'}, {'tournament': 'International Cricket Council', 'stadium': 'Zahur Ahmed Chowdhury Stadium', 'date': 'Yesterday', 'teams': [{'name': 'Sri Lanka', 'score': '235 (50)', 'thumbnail': 'https://serpapi.com/searches/65f90bddf8f5f79078d10e2c/images/460fa5e25bd6e3da2c84ea57f4cf552d60ab67629da4f3d5b7f05eccbb1ed359b11d948b104f95202bac3a12314c428e.png'}, {'name': 'Bangladesh', 'score': '237/6 (40.2)', 'thumbnail': 'https://serpapi.com/searches/65f90bddf8f5f79078d10e2c/images/460fa5e25bd6e3da2c84ea57f4cf552d60ab67629da4f3d5e701f84eb5915e44532e4e43f0e33b95f2fa7efbe7be280f.png'}], 'status': 'BAN won by 4 wickets (58 balls left)'}]}\u001b[0m\n",
      "Thought:\u001b[32;1m\u001b[1;3m I now know the final answer\n",
      "Final Answer: The final answer to the original input question is that there have been multiple cricket matches played recently, with Afghanistan, Uganda, Kenya, Nigeria, Zimbabwe, and Bangladesh emerging as the winners. The most recent match was between Sri Lanka and Bangladesh, with Bangladesh winning by 4 wickets. \u001b[0m\n",
      "\n",
      "\u001b[1m> Finished chain.\u001b[0m\n"
     ]
    },
    {
     "data": {
      "text/plain": [
       "'The final answer to the original input question is that there have been multiple cricket matches played recently, with Afghanistan, Uganda, Kenya, Nigeria, Zimbabwe, and Bangladesh emerging as the winners. The most recent match was between Sri Lanka and Bangladesh, with Bangladesh winning by 4 wickets.'"
      ]
     },
     "execution_count": 84,
     "metadata": {},
     "output_type": "execute_result"
    }
   ],
   "source": [
    "agent.run(\"Can you tell me about the recent cricket match?\")"
   ]
  },
  {
   "cell_type": "code",
   "execution_count": 85,
   "id": "a34811e7",
   "metadata": {},
   "outputs": [
    {
     "name": "stdout",
     "output_type": "stream",
     "text": [
      "\n",
      "\n",
      "\u001b[1m> Entering new AgentExecutor chain...\u001b[0m\n",
      "\u001b[32;1m\u001b[1;3m I should use the Search tool to find information about the recent WPL match.\n",
      "Action: Search\n",
      "Action Input: \"recent WPL match\"\u001b[0m\n",
      "Observation: \u001b[36;1m\u001b[1;3m{'title': \"Women's Premier League\", 'games': [{'tournament': \"Women's Premier League\", 'stadium': 'Arun Jaitley', 'date': 'Yesterday', 'teams': [{'name': 'Capitals', 'score': '113 (18.3)', 'thumbnail': 'https://serpapi.com/searches/65f90be1c9de45197cb18959/images/ad9970dc3977be8abc5d4310682341cf5890e7fca92f1f20bb31126456e0f32e82a643eda9b9745e65e5f567ebb91131.png'}, {'name': 'Royal Challengers', 'score': '115/2 (19.3)', 'thumbnail': 'https://serpapi.com/searches/65f90be1c9de45197cb18959/images/ad9970dc3977be8abc5d4310682341cf5890e7fca92f1f2020d978f1bf52e1f94ee9e4d990381898b3a830d6c3e28eea.png'}], 'status': 'RCB won by 8 wickets (3 balls left)'}, {'tournament': \"Women's Premier League\", 'stadium': 'Arun Jaitley', 'date': 'Fri, Mar 15', 'teams': [{'name': 'Royal Challengers', 'score': '135/6 (20)', 'thumbnail': 'https://serpapi.com/searches/65f90be1c9de45197cb18959/images/ad9970dc3977be8abc5d4310682341cf5bb5593066b0767b1b553e733accae5b223da44ff384868baa8427557c61ad09.png'}, {'name': 'Indians', 'score': '130/6 (20)', 'thumbnail': 'https://serpapi.com/searches/65f90be1c9de45197cb18959/images/ad9970dc3977be8abc5d4310682341cf5bb5593066b0767b92d75f01fa7961645aefb8c29ed6a17b46d4fc241668be38.png'}], 'status': 'RCB won by 5 runs'}, {'tournament': \"Women's Premier League\", 'stadium': 'Arun Jaitley', 'date': 'Wed, Mar 13', 'teams': [{'name': 'Giants', 'score': '126/9 (20)', 'thumbnail': 'https://serpapi.com/searches/65f90be1c9de45197cb18959/images/ad9970dc3977be8abc5d4310682341cfc66a6c0d8f05569b36103fa45b7b4cba1db6947bf753b6c56c78450f1343c190.png'}, {'name': 'Capitals', 'score': '129/3 (13.1)', 'thumbnail': 'https://serpapi.com/searches/65f90be1c9de45197cb18959/images/ad9970dc3977be8abc5d4310682341cfc66a6c0d8f05569b496e90b1848bde7a17424e197807af99db0f1cdabf7f8044.png'}], 'status': 'DC won by 7 wickets (41 balls left)'}, {'tournament': \"Women's Premier League\", 'stadium': 'Arun Jaitley', 'date': 'Tue, Mar 12', 'teams': [{'name': 'Indians', 'score': '113 (19)', 'thumbnail': 'https://serpapi.com/searches/65f90be1c9de45197cb18959/images/ad9970dc3977be8abc5d4310682341cf77f28d68631d267c46f4fa215f458d61a9bf7caf5e5dd4e3abd125192f3cbd50.png'}, {'name': 'Royal Challengers', 'score': '115/3 (15)', 'thumbnail': 'https://serpapi.com/searches/65f90be1c9de45197cb18959/images/ad9970dc3977be8abc5d4310682341cf77f28d68631d267ca5e2f00cf71a9fb3b4e40e3926924401ec59fc5fa47f3baf.png'}], 'status': 'RCB won by 7 wickets (30 balls left)'}, {'tournament': \"Women's Premier League\", 'stadium': 'Arun Jaitley', 'date': 'Mon, Mar 11', 'teams': [{'name': 'Giants', 'score': '152/8 (20)', 'thumbnail': 'https://serpapi.com/searches/65f90be1c9de45197cb18959/images/ad9970dc3977be8abc5d4310682341cfc2e66f1b7a7ca0590c7fea4a9e7a3fec8ecc256263f8e35ea790f5afc83b096b.png'}, {'name': 'Warriorz', 'score': '144/5 (20)', 'thumbnail': 'https://serpapi.com/searches/65f90be1c9de45197cb18959/images/ad9970dc3977be8abc5d4310682341cfc2e66f1b7a7ca05921b3a7599479c7c08f32e4ae0c9afd1c4af23dd7229b5cac.png'}], 'status': 'GG won by 8 runs'}, {'tournament': \"Women's Premier League\", 'stadium': 'Arun Jaitley', 'date': 'Sun, Mar 10', 'teams': [{'name': 'Capitals', 'score': '181/5 (20)', 'thumbnail': 'https://serpapi.com/searches/65f90be1c9de45197cb18959/images/ad9970dc3977be8abc5d4310682341cf6b89986eacfdecc74f582adef853f972b3e2ce86010878fca9d179cd80ef6f1e.png'}, {'name': 'Royal Challengers', 'score': '180/7 (20)', 'thumbnail': 'https://serpapi.com/searches/65f90be1c9de45197cb18959/images/ad9970dc3977be8abc5d4310682341cf6b89986eacfdecc7b36f6c175c3a1bd648d67da2b86a4f1a68ef3e2beb73da93.png'}], 'status': 'DC won by 1 run'}]}\u001b[0m\n",
      "Thought:\u001b[32;1m\u001b[1;3m I now know the final answer.\n",
      "Final Answer: According to the recent WPL match results, the Royal Challengers won by 8 wickets against the Capitals. \u001b[0m\n",
      "\n",
      "\u001b[1m> Finished chain.\u001b[0m\n"
     ]
    },
    {
     "data": {
      "text/plain": [
       "'According to the recent WPL match results, the Royal Challengers won by 8 wickets against the Capitals.'"
      ]
     },
     "execution_count": 85,
     "metadata": {},
     "output_type": "execute_result"
    }
   ],
   "source": [
    "agent.run(\"Can you tell me about the recent WPL match? \")"
   ]
  },
  {
   "cell_type": "code",
   "execution_count": 86,
   "id": "b07cd176",
   "metadata": {},
   "outputs": [],
   "source": [
    "prompt = PromptTemplate.from_template(\"What is a good name for a comapny that makes {product}\")"
   ]
  },
  {
   "cell_type": "code",
   "execution_count": 87,
   "id": "0b876df6",
   "metadata": {},
   "outputs": [],
   "source": [
    "from langchain.chains import LLMChain"
   ]
  },
  {
   "cell_type": "code",
   "execution_count": 88,
   "id": "e35abce2",
   "metadata": {},
   "outputs": [],
   "source": [
    "chain = LLMChain(llm=client, prompt=prompt)"
   ]
  },
  {
   "cell_type": "code",
   "execution_count": 89,
   "id": "2c6fcf2e",
   "metadata": {},
   "outputs": [
    {
     "data": {
      "text/plain": [
       "'1. InfinitiNote \\n2. ProTechLaptops \\n3. NovaTech \\n4. SwiftComputers \\n5. EliteBook \\n6. StellarNote \\n7. VantageTech \\n8. ZenNote \\n9. ApexLaptops \\n10. VelocityComputers'"
      ]
     },
     "execution_count": 89,
     "metadata": {},
     "output_type": "execute_result"
    }
   ],
   "source": [
    "chain.run(\"Laptops\").strip()"
   ]
  },
  {
   "cell_type": "markdown",
   "id": "0f4c7c81",
   "metadata": {},
   "source": [
    "#### We use simplesequectial chain for combining multiple chain"
   ]
  },
  {
   "cell_type": "code",
   "execution_count": 90,
   "id": "cd4fdb2b",
   "metadata": {},
   "outputs": [],
   "source": [
    "prompt_template_name = PromptTemplate(\n",
    "    input_variables=[\"startup_name\"],\n",
    "    template=\"What is a good name for a company that makes {startup_name}?\"\n",
    "    )"
   ]
  },
  {
   "cell_type": "code",
   "execution_count": 91,
   "id": "94b0e006",
   "metadata": {},
   "outputs": [],
   "source": [
    "name_chain = LLMChain(llm=client, prompt=prompt_template_name)"
   ]
  },
  {
   "cell_type": "code",
   "execution_count": 92,
   "id": "5752d4ae",
   "metadata": {},
   "outputs": [],
   "source": [
    "prompt_template_items = PromptTemplate(\n",
    "    input_variables=[\"name\"],\n",
    "    template=\"Suggest some strategies for {name}\"\n",
    "    )"
   ]
  },
  {
   "cell_type": "code",
   "execution_count": 93,
   "id": "6d0d63cb",
   "metadata": {},
   "outputs": [],
   "source": [
    "strategies_chain = LLMChain(llm=client, prompt=prompt_template_items)"
   ]
  },
  {
   "cell_type": "code",
   "execution_count": 94,
   "id": "ff4345e6",
   "metadata": {},
   "outputs": [],
   "source": [
    "from langchain.chains import SimpleSequentialChain"
   ]
  },
  {
   "cell_type": "code",
   "execution_count": 95,
   "id": "f0da3d8b",
   "metadata": {},
   "outputs": [],
   "source": [
    "chain = SimpleSequentialChain(chains=[name_chain, strategies_chain])"
   ]
  },
  {
   "cell_type": "code",
   "execution_count": 96,
   "id": "883b1fd8",
   "metadata": {},
   "outputs": [
    {
     "name": "stdout",
     "output_type": "stream",
     "text": [
      "1. Implement a strong marketing campaign: Utilize various marketing channels such as social media, email marketing, and content marketing to build brand awareness and attract potential customers.\n",
      "\n",
      "2. Create a user-friendly website: Invest in a well-designed and easy-to-navigate website to showcase your products and services. This will help in building credibility and attracting potential customers.\n",
      "\n",
      "3. Partner with other businesses: Collaborate with other companies that offer complementary products or services to expand your reach and attract new customers.\n",
      "\n",
      "4. Attend industry events: Participate in relevant trade shows, conferences, and networking events to showcase your products and services and connect with potential customers and business partners.\n",
      "\n",
      "5. Offer free trials or demos: Allow potential customers to try your products or services for free to showcase their effectiveness and build trust. This can also help in converting them into paying customers.\n",
      "\n",
      "6. Utilize customer referrals: Encourage satisfied customers to refer their friends and colleagues to your business. Offer incentives for successful referrals to further motivate them.\n",
      "\n",
      "7. Leverage online reviews: Encourage satisfied customers to leave positive reviews on platforms like Google, Yelp, and social media. This can help in building trust and attracting new customers.\n",
      "\n",
      "8. Focus on customer service: Provide excellent customer service to retain existing customers and attract new ones\n"
     ]
    }
   ],
   "source": [
    "print(chain.run(\"artificial intelligence\").strip())"
   ]
  },
  {
   "cell_type": "markdown",
   "id": "7db24e35",
   "metadata": {},
   "source": [
    "# Sequential chain"
   ]
  },
  {
   "cell_type": "code",
   "execution_count": 97,
   "id": "af89bc9e",
   "metadata": {},
   "outputs": [],
   "source": [
    "prompt_template_name = PromptTemplate(\n",
    "    input_variables=[\"cuisine\"],\n",
    "    template=\"I want to open a restaurant that serves {cuisine}. What should I name it?\"\n",
    "    )\n",
    "\n",
    "name_chain = LLMChain(llm=client, prompt=prompt_template_name, output_key=\"restaurant_name\")"
   ]
  },
  {
   "cell_type": "code",
   "execution_count": 98,
   "id": "b6f0258c",
   "metadata": {},
   "outputs": [],
   "source": [
    "prompt_template_items = PromptTemplate(\n",
    "    input_variables=[\"restaurant_name\"],\n",
    "    template=\"Suggest some menu items for {restaurant_name}\"\n",
    "    )\n",
    "\n",
    "food_items_chain = LLMChain(llm=client, prompt=prompt_template_items, output_key=\"menu_items\")"
   ]
  },
  {
   "cell_type": "code",
   "execution_count": 99,
   "id": "20db9c5e",
   "metadata": {},
   "outputs": [],
   "source": [
    "from langchain.chains import SequentialChain"
   ]
  },
  {
   "cell_type": "code",
   "execution_count": 100,
   "id": "2b5108b3",
   "metadata": {},
   "outputs": [],
   "source": [
    "chain = SequentialChain(chains=[name_chain, food_items_chain],\n",
    "                        input_variables=[\"cuisine\"],\n",
    "                        output_variables=[\"restaurant_name\", \"menu_items\"])"
   ]
  },
  {
   "cell_type": "code",
   "execution_count": 101,
   "id": "f1ef1322",
   "metadata": {},
   "outputs": [
    {
     "name": "stderr",
     "output_type": "stream",
     "text": [
      "C:\\ProgramData\\anaconda3\\envs\\openai\\lib\\site-packages\\langchain_core\\_api\\deprecation.py:117: LangChainDeprecationWarning: The function `__call__` was deprecated in LangChain 0.1.0 and will be removed in 0.2.0. Use invoke instead.\n",
      "  warn_deprecated(\n"
     ]
    },
    {
     "data": {
      "text/plain": [
       "{'cuisine': 'Italian',\n",
       " 'restaurant_name': '\\n\\n\"Pasta Bella\" or \"Cucina Italiana\"',\n",
       " 'menu_items': ' \\n\\n1. Spaghetti Carbonara - classic pasta dish with bacon, egg, and parmesan cheese\\n2. Rigatoni Bolognese - hearty meat sauce made with ground beef, tomatoes, and herbs\\n3. Fettuccine Alfredo - creamy pasta dish with a rich butter and parmesan cheese sauce\\n4. Lasagna - layers of pasta, meat sauce, and cheese, baked to perfection\\n5. Gnocchi with Pesto - potato dumplings tossed in a fresh basil pesto sauce\\n6. Chicken Parmigiana - breaded chicken topped with marinara sauce and melted mozzarella cheese\\n7. Shrimp Scampi - sautéed shrimp in a garlic butter sauce served over linguine\\n8. Eggplant Parmigiana - breaded and fried eggplant topped with marinara and mozzarella cheese\\n9. Tortellini in Brodo - small stuffed pasta in a light chicken broth\\n10. Margherita Pizza - classic pizza with tomato sauce, fresh mozzarella, and basil\\n11. Chicken Marsala - tender chicken sautéed with mushrooms and a Marsala wine sauce\\n12. Penne Arrabiata - penne pasta in a spicy tomato sauce\\n13. Meatballs with'}"
      ]
     },
     "execution_count": 101,
     "metadata": {},
     "output_type": "execute_result"
    }
   ],
   "source": [
    "chain({\"cuisine\": \"Italian\"})"
   ]
  },
  {
   "cell_type": "code",
   "execution_count": 102,
   "id": "3bb587a7",
   "metadata": {},
   "outputs": [],
   "source": [
    "from langchain_community.document_loaders import PyPDFLoader"
   ]
  },
  {
   "cell_type": "code",
   "execution_count": 103,
   "id": "03894362",
   "metadata": {},
   "outputs": [],
   "source": [
    "loader = PyPDFLoader(\"D:\\Admission Documents\\Rutgers\\Resumes\\Atharva Bhusari - Resume - Data Scientist - 03112024.pdf\")"
   ]
  },
  {
   "cell_type": "code",
   "execution_count": 104,
   "id": "c7426756",
   "metadata": {},
   "outputs": [],
   "source": [
    "pages = loader.load_and_split()"
   ]
  },
  {
   "cell_type": "code",
   "execution_count": 105,
   "id": "e34a7dcd",
   "metadata": {},
   "outputs": [
    {
     "data": {
      "text/plain": [
       "Document(page_content='Atharva Harshavardhan Bhusari  \\natharva bhusari99@gmail.com  | https://www.linkedin.com/in/atharva -bhusari/  | https://github.com/atharva -bhusari  | +1 (848) -391-5780 \\n \\nEDUCATION  \\nRutgers University  New Brunswick , NJ \\nMaster  of Statistics  in Data Science  (GPA: 3.56/4)  Sep 2022 - May 2024  \\nSavitribai Phule Pune University  Pune , India  \\nBachelor of Engineering in Information Technology  Aug 2016 – Nov 2020  \\n \\nWORK EXPERIENCE   \\nRutgers Institute for Health  New Brunswick , NJ \\nData Science  Research Intern  Jun 2023  – Oct 2023  \\n• Developed a novel machine learning pipeline for multi -genomic exploration to discover significant biomarkers in disease  \\nprediction with an accuracy of 80%   \\n• Implemented Recursive Feature Elimination , Chi-square test  and ANOVA  to extract significant disease associated biomarkers   \\n• Introduced the Intelligent Gene (I -Gene) score , a novel metric for evaluating biomarker significance in predicting complex traits,  \\nenabling the creation of personalized I-Gene  profiles for advanced disease prediction analysis  \\n• Trained classifiers like Support Vector Machine, XGBoost, RandomForest  to compute top 10%  of multi -genomic data -based  \\nprofiles and rank to predict diagnosis  \\n• Guided a study where the pipeline was able discover 18 novel biomarkers that are highly significant in cardiovascular disea se \\n \\nCognizant Technology Solutions  Pune , India  \\nProgrammer Analyst  Nov 2020 – Aug 2022  \\n• Reduced business impact by 30%  by expediting immediately over workflow failures using PowerCenter Workflow Monitor  \\n• Co-ordinated updating existing ETL  workflows and mappings as per business requirements using PowerCenter Designer  \\n• Partnered  with functional teams to develop and enhance SAP modules (MM, SD, FI)  using ABAP , resulting in a 25%  \\nimprovement in process efficiency   \\n• Followed an Agile methodology and maintained documentation using ServiceNow , HP Application Lifecycle Management  \\n• Enabled  a unique workflow and process chain to reduce data share time by 20%  \\n \\nPUBLICATIONS   \\nDeGroat, W., Mendhe, D., Bhusari, A. , Abdelhalim, H., Zeeshan, S., Ahmed, Z. (2023).  IntelliGenes : \"A novel machine learning \\npipeline for biomarker discovery and predictive analysis using multi -genomic profiles.\" Bioinformatics . \\n \\nKulkarni, S., Samant, R. M., & Bhusari, A.  (2020). Sherlock: An Ensemble based Deep Learning Framework for Fake News \\nDetection. International Journal of Computer Applications , 176(22), 37 -42. \\n \\nPROJECTS   \\nRapidReads: TLDR Extraction from Reddit Threads with Neural Networks  Sep 2023 – Dec 2023  \\n• Implemented complex neural networks  and pretrained models  for summarizing over 180k Reddit threads  \\n• Transitioned to abstractive summari zation  using sequence -to-sequence models , improving summary coherence by over 30%  \\ncompared to basic models  \\n• Leveraged BART  and T5 models, enhancing summary quality, achieving ROUGE -1 and ROUGE -2 scores above 50%  \\n• Performed hyperparameter tuning on the models to explore if the model improves  \\n \\nTelecom Customer Churn Prediction  Jan 2023 – May 2023  \\n• Composed  and refined machine learning models  and ensemble models , starting with the creation of a baseline  model \\n• Enhanced vanilla model accuracy by determining the optimal threshold for classification , achieving a 15%  increase in the F1 score  \\nthrough  analysis and adjustment  \\n• Conducted hyperparameter tuning  on models using grid and random search methods , achieving a 20%  improvement in \\nprediction accuracy and efficiency  \\n• Refined  model discrimination between classes by up to 25%  through ROC AUC score  analysis  \\n \\nSherlock: An Ensemble Based Deep Learning Framework for Fake News Detection  Sept 2018 – May 2020  \\n• Improved news article falsity detection to 85%  accuracy using ensemble models  \\n• Implemented Recurrent Neural Networks (RNN)  and Long Short -Term Memory (LSTM)  networks, achieving an impressive', metadata={'source': 'D:\\\\Admission Documents\\\\Rutgers\\\\Resumes\\\\Atharva Bhusari - Resume - Data Scientist - 03112024.pdf', 'page': 0})"
      ]
     },
     "execution_count": 105,
     "metadata": {},
     "output_type": "execute_result"
    }
   ],
   "source": [
    "pages[0]"
   ]
  }
 ],
 "metadata": {
  "kernelspec": {
   "display_name": "Python 3 (ipykernel)",
   "language": "python",
   "name": "python3"
  },
  "language_info": {
   "codemirror_mode": {
    "name": "ipython",
    "version": 3
   },
   "file_extension": ".py",
   "mimetype": "text/x-python",
   "name": "python",
   "nbconvert_exporter": "python",
   "pygments_lexer": "ipython3",
   "version": "3.8.18"
  }
 },
 "nbformat": 4,
 "nbformat_minor": 5
}
