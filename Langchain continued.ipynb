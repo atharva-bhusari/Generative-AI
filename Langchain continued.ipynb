{
 "cells": [
  {
   "cell_type": "code",
   "execution_count": 1,
   "id": "35cb8169-ec94-462c-a2d9-768a7dd535f8",
   "metadata": {},
   "outputs": [
    {
     "data": {
      "text/plain": [
       "True"
      ]
     },
     "execution_count": 1,
     "metadata": {},
     "output_type": "execute_result"
    }
   ],
   "source": [
    "import openai\n",
    "import os\n",
    "from dotenv import load_dotenv\n",
    "import langchain\n",
    "\n",
    "load_dotenv()"
   ]
  },
  {
   "cell_type": "code",
   "execution_count": 2,
   "id": "b67a0e84-1861-43e1-99ff-ef9f2a7517ea",
   "metadata": {},
   "outputs": [],
   "source": [
    "API_KEY = os.environ.get(\"OPENAI_API_KEY\")\n",
    "openai.api_key = API_KEY"
   ]
  },
  {
   "cell_type": "code",
   "execution_count": 3,
   "id": "e4016011-6621-4ef2-be3a-622d4cbfc8da",
   "metadata": {},
   "outputs": [],
   "source": [
    "from langchain.prompts import PromptTemplate\n",
    "from langchain.chains import LLMChain\n",
    "from langchain.llms import OpenAI"
   ]
  },
  {
   "cell_type": "code",
   "execution_count": 5,
   "id": "6ff17dff-360b-4de5-ab5b-faa413ae27d1",
   "metadata": {},
   "outputs": [],
   "source": [
    "client = OpenAI(api_key = API_KEY)"
   ]
  },
  {
   "cell_type": "code",
   "execution_count": 6,
   "id": "c1a2eb09-415a-4b75-aa46-97e719fcf5d0",
   "metadata": {},
   "outputs": [],
   "source": [
    "prompt_template_name = PromptTemplate(\n",
    "    input_variables=[\"startup_name\"],\n",
    "    template=\"What is a good name for a company that makes {startup_name}?\"\n",
    "    )"
   ]
  },
  {
   "cell_type": "code",
   "execution_count": 9,
   "id": "0ef1fb99-483b-478c-a64c-93edd8602177",
   "metadata": {},
   "outputs": [],
   "source": [
    "chain = LLMChain(llm=client, prompt=prompt_template_name)"
   ]
  },
  {
   "cell_type": "code",
   "execution_count": 11,
   "id": "fd3dafe1",
   "metadata": {},
   "outputs": [
    {
     "data": {
      "text/plain": [
       "'RoboTech Industries'"
      ]
     },
     "execution_count": 11,
     "metadata": {},
     "output_type": "execute_result"
    }
   ],
   "source": [
    "chain.run(startup_name=\"robots\").strip()"
   ]
  },
  {
   "cell_type": "code",
   "execution_count": 12,
   "id": "c9796a7f",
   "metadata": {},
   "outputs": [
    {
     "data": {
      "text/plain": [
       "'\"SkyTech Aerial Solutions\"'"
      ]
     },
     "execution_count": 12,
     "metadata": {},
     "output_type": "execute_result"
    }
   ],
   "source": [
    "chain.run(startup_name=\"drones\").strip()"
   ]
  },
  {
   "cell_type": "code",
   "execution_count": 15,
   "id": "4156ba4a",
   "metadata": {},
   "outputs": [
    {
     "data": {
      "text/plain": [
       "NoneType"
      ]
     },
     "execution_count": 15,
     "metadata": {},
     "output_type": "execute_result"
    }
   ],
   "source": [
    "type(chain.memory)"
   ]
  },
  {
   "cell_type": "markdown",
   "id": "9aabba52",
   "metadata": {},
   "source": [
    "### Conversation Buffer Memory"
   ]
  },
  {
   "cell_type": "code",
   "execution_count": 16,
   "id": "c91edf40",
   "metadata": {},
   "outputs": [],
   "source": [
    "from langchain.memory import ConversationBufferMemory"
   ]
  },
  {
   "cell_type": "code",
   "execution_count": 17,
   "id": "e3ac2c33",
   "metadata": {},
   "outputs": [],
   "source": [
    "memory = ConversationBufferMemory()"
   ]
  },
  {
   "cell_type": "code",
   "execution_count": 18,
   "id": "f8af1c9e",
   "metadata": {},
   "outputs": [],
   "source": [
    "chain = LLMChain(llm=client, prompt=prompt_template_name, memory=memory)"
   ]
  },
  {
   "cell_type": "code",
   "execution_count": 19,
   "id": "39472b0f",
   "metadata": {},
   "outputs": [
    {
     "data": {
      "text/plain": [
       "'RoboTech Solutions'"
      ]
     },
     "execution_count": 19,
     "metadata": {},
     "output_type": "execute_result"
    }
   ],
   "source": [
    "chain.run(startup_name=\"robots\").strip()"
   ]
  },
  {
   "cell_type": "code",
   "execution_count": 20,
   "id": "23bacd76",
   "metadata": {},
   "outputs": [
    {
     "data": {
      "text/plain": [
       "'1. SkyTech Drones\\n2. AeroFly Innovations\\n3. Winged Robotics\\n4. Airborne Dynamics\\n5. DroneWorks Co.\\n6. FlyHigh Technologies\\n7. SkyScout Aeronautics\\n8. BuzzTech Drones\\n9. Aerial Innovations Inc.\\n10. Altitude AeroSystems.'"
      ]
     },
     "execution_count": 20,
     "metadata": {},
     "output_type": "execute_result"
    }
   ],
   "source": [
    "chain.run(startup_name=\"drones\").strip()"
   ]
  },
  {
   "cell_type": "code",
   "execution_count": 21,
   "id": "c187991f",
   "metadata": {},
   "outputs": [
    {
     "data": {
      "text/plain": [
       "'1. SnapTech\\n2. FocusVision\\n3. PixelPro\\n4. ShutterWorks\\n5. LensCraft\\n6. ImageMakers\\n7. CaptureCo\\n8. OptiCam\\n9. FotoTech\\n10. CameraCrafters'"
      ]
     },
     "execution_count": 21,
     "metadata": {},
     "output_type": "execute_result"
    }
   ],
   "source": [
    "chain.run(startup_name=\"camera\").strip()"
   ]
  },
  {
   "cell_type": "code",
   "execution_count": 25,
   "id": "1032ac38",
   "metadata": {},
   "outputs": [
    {
     "name": "stdout",
     "output_type": "stream",
     "text": [
      "Human: robots\n",
      "AI: \n",
      "\n",
      "RoboTech Solutions \n",
      "Human: drones\n",
      "AI: \n",
      "\n",
      "1. SkyTech Drones\n",
      "2. AeroFly Innovations\n",
      "3. Winged Robotics\n",
      "4. Airborne Dynamics\n",
      "5. DroneWorks Co.\n",
      "6. FlyHigh Technologies\n",
      "7. SkyScout Aeronautics\n",
      "8. BuzzTech Drones\n",
      "9. Aerial Innovations Inc.\n",
      "10. Altitude AeroSystems.\n",
      "Human: camera\n",
      "AI: \n",
      "1. SnapTech\n",
      "2. FocusVision\n",
      "3. PixelPro\n",
      "4. ShutterWorks\n",
      "5. LensCraft\n",
      "6. ImageMakers\n",
      "7. CaptureCo\n",
      "8. OptiCam\n",
      "9. FotoTech\n",
      "10. CameraCrafters\n"
     ]
    }
   ],
   "source": [
    "print(chain.memory.buffer)"
   ]
  },
  {
   "cell_type": "markdown",
   "id": "9fc70c69",
   "metadata": {},
   "source": [
    "## Conversation Chain"
   ]
  },
  {
   "cell_type": "code",
   "execution_count": 26,
   "id": "f017b72d",
   "metadata": {},
   "outputs": [],
   "source": [
    "from langchain.chains import ConversationChain"
   ]
  },
  {
   "cell_type": "code",
   "execution_count": 27,
   "id": "2b522da9",
   "metadata": {},
   "outputs": [],
   "source": [
    "convo = ConversationChain(llm=OpenAI(api_key=API_KEY, temperature=0.7))"
   ]
  },
  {
   "cell_type": "code",
   "execution_count": 30,
   "id": "4364706c",
   "metadata": {},
   "outputs": [
    {
     "name": "stdout",
     "output_type": "stream",
     "text": [
      "The following is a friendly conversation between a human and an AI. The AI is talkative and provides lots of specific details from its context. If the AI does not know the answer to a question, it truthfully says it does not know.\n",
      "\n",
      "Current conversation:\n",
      "{history}\n",
      "Human: {input}\n",
      "AI:\n"
     ]
    }
   ],
   "source": [
    "print(convo.prompt.template)"
   ]
  },
  {
   "cell_type": "code",
   "execution_count": 32,
   "id": "fcc3654e",
   "metadata": {},
   "outputs": [
    {
     "data": {
      "text/plain": [
       "'The first Cricket World Cup was held in 1975 and was won by the West Indies team. They defeated Australia in the finals by 17 runs. The tournament was hosted by England and was a 60-over match. The man of the match was Clive Lloyd from the West Indies team for his impressive score of 102 runs.'"
      ]
     },
     "execution_count": 32,
     "metadata": {},
     "output_type": "execute_result"
    }
   ],
   "source": [
    "convo.run(\"who won the first cricket worldcup?\").strip()"
   ]
  },
  {
   "cell_type": "code",
   "execution_count": 33,
   "id": "3d81f539",
   "metadata": {},
   "outputs": [
    {
     "data": {
      "text/plain": [
       "'Of course! 5+5 is equal to 10.'"
      ]
     },
     "execution_count": 33,
     "metadata": {},
     "output_type": "execute_result"
    }
   ],
   "source": [
    "convo.run(\"can you tell what is 5+5\").strip()"
   ]
  },
  {
   "cell_type": "code",
   "execution_count": 34,
   "id": "549988fe",
   "metadata": {},
   "outputs": [
    {
     "data": {
      "text/plain": [
       "'Sure thing! 5+1 is equal to 6.'"
      ]
     },
     "execution_count": 34,
     "metadata": {},
     "output_type": "execute_result"
    }
   ],
   "source": [
    "convo.run(\"can you tell what is 5+1\").strip()"
   ]
  },
  {
   "cell_type": "code",
   "execution_count": 38,
   "id": "46ea28db",
   "metadata": {},
   "outputs": [
    {
     "data": {
      "text/plain": [
       "'I apologize, I do not have access to the internet and am unable to perform mathematical calculations. My main function is to provide information and engage in friendly conversation. Is there anything else you would like to know?'"
      ]
     },
     "execution_count": 38,
     "metadata": {},
     "output_type": "execute_result"
    }
   ],
   "source": [
    "convo.run(\"can you divde the numbers and give me the final answer\").strip()"
   ]
  },
  {
   "cell_type": "markdown",
   "id": "66bf191b",
   "metadata": {},
   "source": [
    "### ConverationBufferedWindowMemory"
   ]
  },
  {
   "cell_type": "code",
   "execution_count": 39,
   "id": "8644c364",
   "metadata": {},
   "outputs": [],
   "source": [
    "from langchain.memory import ConversationBufferWindowMemory"
   ]
  },
  {
   "cell_type": "code",
   "execution_count": 47,
   "id": "9ecc92d1",
   "metadata": {},
   "outputs": [],
   "source": [
    "memory = ConversationBufferWindowMemory(k=3)"
   ]
  },
  {
   "cell_type": "code",
   "execution_count": 48,
   "id": "2ee320b9",
   "metadata": {},
   "outputs": [],
   "source": [
    "convo = ConversationChain(llm=OpenAI(api_key=API_KEY, temperature=0.7), memory=memory)"
   ]
  },
  {
   "cell_type": "code",
   "execution_count": 49,
   "id": "3e8f9346",
   "metadata": {},
   "outputs": [
    {
     "data": {
      "text/plain": [
       "'The first Cricket World Cup was held in 1975 and was won by the West Indies team. They defeated Australia in the final match by 17 runs.'"
      ]
     },
     "execution_count": 49,
     "metadata": {},
     "output_type": "execute_result"
    }
   ],
   "source": [
    "convo.run(\"who won the first cricket worldcup?\").strip()"
   ]
  },
  {
   "cell_type": "code",
   "execution_count": 50,
   "id": "c591d067",
   "metadata": {},
   "outputs": [
    {
     "data": {
      "text/plain": [
       "'Of course! 5+5 is 10. Did you know that 5+5 is a basic addition problem and is considered part of the arithmetic branch of math? It is often taught in elementary school as one of the first math concepts.'"
      ]
     },
     "execution_count": 50,
     "metadata": {},
     "output_type": "execute_result"
    }
   ],
   "source": [
    "convo.run(\"can you tell what is 5+5\").strip()"
   ]
  },
  {
   "cell_type": "code",
   "execution_count": 51,
   "id": "87e7ae0b",
   "metadata": {},
   "outputs": [
    {
     "data": {
      "text/plain": [
       "'The captain of the West Indies team during the first Cricket World Cup was Clive Lloyd. He is considered one of the greatest cricket captains of all time and led his team to victory in both the 1975 and 1979 World Cups.'"
      ]
     },
     "execution_count": 51,
     "metadata": {},
     "output_type": "execute_result"
    }
   ],
   "source": [
    "convo.run(\"Who was the captain of the winning team?\").strip()"
   ]
  },
  {
   "cell_type": "code",
   "execution_count": null,
   "id": "25b91a22",
   "metadata": {},
   "outputs": [],
   "source": []
  }
 ],
 "metadata": {
  "kernelspec": {
   "display_name": "Python 3 (ipykernel)",
   "language": "python",
   "name": "python3"
  },
  "language_info": {
   "codemirror_mode": {
    "name": "ipython",
    "version": 3
   },
   "file_extension": ".py",
   "mimetype": "text/x-python",
   "name": "python",
   "nbconvert_exporter": "python",
   "pygments_lexer": "ipython3",
   "version": "3.8.18"
  }
 },
 "nbformat": 4,
 "nbformat_minor": 5
}
